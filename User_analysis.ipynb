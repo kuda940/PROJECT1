{
  "nbformat": 4,
  "nbformat_minor": 0,
  "metadata": {
    "colab": {
      "provenance": [],
      "mount_file_id": "1dTY_7Ds-aYfXtLu1KBkMEbFvhRyfJJBW",
      "authorship_tag": "ABX9TyN5KUa8FWJCrJpMON6loiWz",
      "include_colab_link": true
    },
    "kernelspec": {
      "name": "python3",
      "display_name": "Python 3"
    },
    "language_info": {
      "name": "python"
    }
  },
  "cells": [
    {
      "cell_type": "markdown",
      "metadata": {
        "id": "view-in-github",
        "colab_type": "text"
      },
      "source": [
        "<a href=\"https://colab.research.google.com/github/kuda940/PROJECT1/blob/main/User_analysis.ipynb\" target=\"_parent\"><img src=\"https://colab.research.google.com/assets/colab-badge.svg\" alt=\"Open In Colab\"/></a>"
      ]
    },
    {
      "cell_type": "code",
      "execution_count": 1,
      "metadata": {
        "colab": {
          "base_uri": "https://localhost:8080/"
        },
        "id": "VWOleVOnDNZy",
        "outputId": "f0e02cf2-dff3-4b40-8ef2-c636ec4525de"
      },
      "outputs": [
        {
          "output_type": "stream",
          "name": "stdout",
          "text": [
            "Requirement already satisfied: pandas in /usr/local/lib/python3.12/dist-packages (2.2.2)\n",
            "Requirement already satisfied: numpy>=1.26.0 in /usr/local/lib/python3.12/dist-packages (from pandas) (2.0.2)\n",
            "Requirement already satisfied: python-dateutil>=2.8.2 in /usr/local/lib/python3.12/dist-packages (from pandas) (2.9.0.post0)\n",
            "Requirement already satisfied: pytz>=2020.1 in /usr/local/lib/python3.12/dist-packages (from pandas) (2025.2)\n",
            "Requirement already satisfied: tzdata>=2022.7 in /usr/local/lib/python3.12/dist-packages (from pandas) (2025.2)\n",
            "Requirement already satisfied: six>=1.5 in /usr/local/lib/python3.12/dist-packages (from python-dateutil>=2.8.2->pandas) (1.17.0)\n"
          ]
        }
      ],
      "source": [
        "!pip install pandas"
      ]
    },
    {
      "cell_type": "code",
      "source": [
        "!pip install numpy"
      ],
      "metadata": {
        "colab": {
          "base_uri": "https://localhost:8080/"
        },
        "id": "e7ioJGlRD4s6",
        "outputId": "eb3ced27-d944-485f-c4ac-6a304049c3a1"
      },
      "execution_count": 2,
      "outputs": [
        {
          "output_type": "stream",
          "name": "stdout",
          "text": [
            "Requirement already satisfied: numpy in /usr/local/lib/python3.12/dist-packages (2.0.2)\n"
          ]
        }
      ]
    },
    {
      "cell_type": "code",
      "source": [
        "!pip install matplotlib"
      ],
      "metadata": {
        "colab": {
          "base_uri": "https://localhost:8080/"
        },
        "id": "8DbnHT9zEAX3",
        "outputId": "4238c428-9779-42c4-8bbf-40da9d1489cd"
      },
      "execution_count": 3,
      "outputs": [
        {
          "output_type": "stream",
          "name": "stdout",
          "text": [
            "Requirement already satisfied: matplotlib in /usr/local/lib/python3.12/dist-packages (3.10.0)\n",
            "Requirement already satisfied: contourpy>=1.0.1 in /usr/local/lib/python3.12/dist-packages (from matplotlib) (1.3.3)\n",
            "Requirement already satisfied: cycler>=0.10 in /usr/local/lib/python3.12/dist-packages (from matplotlib) (0.12.1)\n",
            "Requirement already satisfied: fonttools>=4.22.0 in /usr/local/lib/python3.12/dist-packages (from matplotlib) (4.59.1)\n",
            "Requirement already satisfied: kiwisolver>=1.3.1 in /usr/local/lib/python3.12/dist-packages (from matplotlib) (1.4.9)\n",
            "Requirement already satisfied: numpy>=1.23 in /usr/local/lib/python3.12/dist-packages (from matplotlib) (2.0.2)\n",
            "Requirement already satisfied: packaging>=20.0 in /usr/local/lib/python3.12/dist-packages (from matplotlib) (25.0)\n",
            "Requirement already satisfied: pillow>=8 in /usr/local/lib/python3.12/dist-packages (from matplotlib) (11.3.0)\n",
            "Requirement already satisfied: pyparsing>=2.3.1 in /usr/local/lib/python3.12/dist-packages (from matplotlib) (3.2.3)\n",
            "Requirement already satisfied: python-dateutil>=2.7 in /usr/local/lib/python3.12/dist-packages (from matplotlib) (2.9.0.post0)\n",
            "Requirement already satisfied: six>=1.5 in /usr/local/lib/python3.12/dist-packages (from python-dateutil>=2.7->matplotlib) (1.17.0)\n"
          ]
        }
      ]
    },
    {
      "cell_type": "code",
      "source": [
        "!pip install seaborn"
      ],
      "metadata": {
        "colab": {
          "base_uri": "https://localhost:8080/"
        },
        "id": "DQ-Hos0lEOtc",
        "outputId": "e8e12b79-ffff-4fcc-867e-2daa10e077dd"
      },
      "execution_count": 4,
      "outputs": [
        {
          "output_type": "stream",
          "name": "stdout",
          "text": [
            "Requirement already satisfied: seaborn in /usr/local/lib/python3.12/dist-packages (0.13.2)\n",
            "Requirement already satisfied: numpy!=1.24.0,>=1.20 in /usr/local/lib/python3.12/dist-packages (from seaborn) (2.0.2)\n",
            "Requirement already satisfied: pandas>=1.2 in /usr/local/lib/python3.12/dist-packages (from seaborn) (2.2.2)\n",
            "Requirement already satisfied: matplotlib!=3.6.1,>=3.4 in /usr/local/lib/python3.12/dist-packages (from seaborn) (3.10.0)\n",
            "Requirement already satisfied: contourpy>=1.0.1 in /usr/local/lib/python3.12/dist-packages (from matplotlib!=3.6.1,>=3.4->seaborn) (1.3.3)\n",
            "Requirement already satisfied: cycler>=0.10 in /usr/local/lib/python3.12/dist-packages (from matplotlib!=3.6.1,>=3.4->seaborn) (0.12.1)\n",
            "Requirement already satisfied: fonttools>=4.22.0 in /usr/local/lib/python3.12/dist-packages (from matplotlib!=3.6.1,>=3.4->seaborn) (4.59.1)\n",
            "Requirement already satisfied: kiwisolver>=1.3.1 in /usr/local/lib/python3.12/dist-packages (from matplotlib!=3.6.1,>=3.4->seaborn) (1.4.9)\n",
            "Requirement already satisfied: packaging>=20.0 in /usr/local/lib/python3.12/dist-packages (from matplotlib!=3.6.1,>=3.4->seaborn) (25.0)\n",
            "Requirement already satisfied: pillow>=8 in /usr/local/lib/python3.12/dist-packages (from matplotlib!=3.6.1,>=3.4->seaborn) (11.3.0)\n",
            "Requirement already satisfied: pyparsing>=2.3.1 in /usr/local/lib/python3.12/dist-packages (from matplotlib!=3.6.1,>=3.4->seaborn) (3.2.3)\n",
            "Requirement already satisfied: python-dateutil>=2.7 in /usr/local/lib/python3.12/dist-packages (from matplotlib!=3.6.1,>=3.4->seaborn) (2.9.0.post0)\n",
            "Requirement already satisfied: pytz>=2020.1 in /usr/local/lib/python3.12/dist-packages (from pandas>=1.2->seaborn) (2025.2)\n",
            "Requirement already satisfied: tzdata>=2022.7 in /usr/local/lib/python3.12/dist-packages (from pandas>=1.2->seaborn) (2025.2)\n",
            "Requirement already satisfied: six>=1.5 in /usr/local/lib/python3.12/dist-packages (from python-dateutil>=2.7->matplotlib!=3.6.1,>=3.4->seaborn) (1.17.0)\n"
          ]
        }
      ]
    },
    {
      "cell_type": "code",
      "source": [
        "#importing libraries\n",
        "import pandas as pd\n",
        "import numpy as np\n",
        "import matplotlib.pyplot as plt\n",
        "import seaborn as sns"
      ],
      "metadata": {
        "id": "uvdpJbmtEYZb"
      },
      "execution_count": 5,
      "outputs": []
    },
    {
      "cell_type": "code",
      "source": [
        "#connect data path\n",
        "data_path='/content/drive/MyDrive/Users.csv'"
      ],
      "metadata": {
        "id": "NmEJszPaG_dF"
      },
      "execution_count": 10,
      "outputs": []
    },
    {
      "cell_type": "code",
      "source": [
        "#data exploration\n",
        "df=pd.read_csv(data_path)"
      ],
      "metadata": {
        "id": "O_OXDjl9HhWB"
      },
      "execution_count": 11,
      "outputs": []
    },
    {
      "cell_type": "code",
      "source": [
        "df.head()"
      ],
      "metadata": {
        "colab": {
          "base_uri": "https://localhost:8080/",
          "height": 206
        },
        "id": "GF44Jm62HuPl",
        "outputId": "7842b253-d225-4198-ba94-d3145ada44d0"
      },
      "execution_count": 12,
      "outputs": [
        {
          "output_type": "execute_result",
          "data": {
            "text/plain": [
              "   Userkey                 UserBrand    SignUpDateTime          SignUpChannel  \\\n",
              "0   530830  BrightLight South Africa  2011/05/27 13:42  Acquisition Channel 3   \n",
              "1   572050  BrightLight South Africa  2011/08/20 17:27  Acquisition Channel 3   \n",
              "2  1209336  BrightLight South Africa  2012/10/05 08:38  Acquisition Channel 3   \n",
              "3  1187493  BrightLight South Africa  2012/01/01 03:48  Acquisition Channel 3   \n",
              "4  1253100  BrightLight South Africa  2012/07/22 11:25  Acquisition Channel 3   \n",
              "\n",
              "   Unnamed: 4  \n",
              "0         NaN  \n",
              "1         NaN  \n",
              "2         NaN  \n",
              "3         NaN  \n",
              "4         NaN  "
            ],
            "text/html": [
              "\n",
              "  <div id=\"df-7757fe2f-c708-4378-8984-c1511114942f\" class=\"colab-df-container\">\n",
              "    <div>\n",
              "<style scoped>\n",
              "    .dataframe tbody tr th:only-of-type {\n",
              "        vertical-align: middle;\n",
              "    }\n",
              "\n",
              "    .dataframe tbody tr th {\n",
              "        vertical-align: top;\n",
              "    }\n",
              "\n",
              "    .dataframe thead th {\n",
              "        text-align: right;\n",
              "    }\n",
              "</style>\n",
              "<table border=\"1\" class=\"dataframe\">\n",
              "  <thead>\n",
              "    <tr style=\"text-align: right;\">\n",
              "      <th></th>\n",
              "      <th>Userkey</th>\n",
              "      <th>UserBrand</th>\n",
              "      <th>SignUpDateTime</th>\n",
              "      <th>SignUpChannel</th>\n",
              "      <th>Unnamed: 4</th>\n",
              "    </tr>\n",
              "  </thead>\n",
              "  <tbody>\n",
              "    <tr>\n",
              "      <th>0</th>\n",
              "      <td>530830</td>\n",
              "      <td>BrightLight South Africa</td>\n",
              "      <td>2011/05/27 13:42</td>\n",
              "      <td>Acquisition Channel 3</td>\n",
              "      <td>NaN</td>\n",
              "    </tr>\n",
              "    <tr>\n",
              "      <th>1</th>\n",
              "      <td>572050</td>\n",
              "      <td>BrightLight South Africa</td>\n",
              "      <td>2011/08/20 17:27</td>\n",
              "      <td>Acquisition Channel 3</td>\n",
              "      <td>NaN</td>\n",
              "    </tr>\n",
              "    <tr>\n",
              "      <th>2</th>\n",
              "      <td>1209336</td>\n",
              "      <td>BrightLight South Africa</td>\n",
              "      <td>2012/10/05 08:38</td>\n",
              "      <td>Acquisition Channel 3</td>\n",
              "      <td>NaN</td>\n",
              "    </tr>\n",
              "    <tr>\n",
              "      <th>3</th>\n",
              "      <td>1187493</td>\n",
              "      <td>BrightLight South Africa</td>\n",
              "      <td>2012/01/01 03:48</td>\n",
              "      <td>Acquisition Channel 3</td>\n",
              "      <td>NaN</td>\n",
              "    </tr>\n",
              "    <tr>\n",
              "      <th>4</th>\n",
              "      <td>1253100</td>\n",
              "      <td>BrightLight South Africa</td>\n",
              "      <td>2012/07/22 11:25</td>\n",
              "      <td>Acquisition Channel 3</td>\n",
              "      <td>NaN</td>\n",
              "    </tr>\n",
              "  </tbody>\n",
              "</table>\n",
              "</div>\n",
              "    <div class=\"colab-df-buttons\">\n",
              "\n",
              "  <div class=\"colab-df-container\">\n",
              "    <button class=\"colab-df-convert\" onclick=\"convertToInteractive('df-7757fe2f-c708-4378-8984-c1511114942f')\"\n",
              "            title=\"Convert this dataframe to an interactive table.\"\n",
              "            style=\"display:none;\">\n",
              "\n",
              "  <svg xmlns=\"http://www.w3.org/2000/svg\" height=\"24px\" viewBox=\"0 -960 960 960\">\n",
              "    <path d=\"M120-120v-720h720v720H120Zm60-500h600v-160H180v160Zm220 220h160v-160H400v160Zm0 220h160v-160H400v160ZM180-400h160v-160H180v160Zm440 0h160v-160H620v160ZM180-180h160v-160H180v160Zm440 0h160v-160H620v160Z\"/>\n",
              "  </svg>\n",
              "    </button>\n",
              "\n",
              "  <style>\n",
              "    .colab-df-container {\n",
              "      display:flex;\n",
              "      gap: 12px;\n",
              "    }\n",
              "\n",
              "    .colab-df-convert {\n",
              "      background-color: #E8F0FE;\n",
              "      border: none;\n",
              "      border-radius: 50%;\n",
              "      cursor: pointer;\n",
              "      display: none;\n",
              "      fill: #1967D2;\n",
              "      height: 32px;\n",
              "      padding: 0 0 0 0;\n",
              "      width: 32px;\n",
              "    }\n",
              "\n",
              "    .colab-df-convert:hover {\n",
              "      background-color: #E2EBFA;\n",
              "      box-shadow: 0px 1px 2px rgba(60, 64, 67, 0.3), 0px 1px 3px 1px rgba(60, 64, 67, 0.15);\n",
              "      fill: #174EA6;\n",
              "    }\n",
              "\n",
              "    .colab-df-buttons div {\n",
              "      margin-bottom: 4px;\n",
              "    }\n",
              "\n",
              "    [theme=dark] .colab-df-convert {\n",
              "      background-color: #3B4455;\n",
              "      fill: #D2E3FC;\n",
              "    }\n",
              "\n",
              "    [theme=dark] .colab-df-convert:hover {\n",
              "      background-color: #434B5C;\n",
              "      box-shadow: 0px 1px 3px 1px rgba(0, 0, 0, 0.15);\n",
              "      filter: drop-shadow(0px 1px 2px rgba(0, 0, 0, 0.3));\n",
              "      fill: #FFFFFF;\n",
              "    }\n",
              "  </style>\n",
              "\n",
              "    <script>\n",
              "      const buttonEl =\n",
              "        document.querySelector('#df-7757fe2f-c708-4378-8984-c1511114942f button.colab-df-convert');\n",
              "      buttonEl.style.display =\n",
              "        google.colab.kernel.accessAllowed ? 'block' : 'none';\n",
              "\n",
              "      async function convertToInteractive(key) {\n",
              "        const element = document.querySelector('#df-7757fe2f-c708-4378-8984-c1511114942f');\n",
              "        const dataTable =\n",
              "          await google.colab.kernel.invokeFunction('convertToInteractive',\n",
              "                                                    [key], {});\n",
              "        if (!dataTable) return;\n",
              "\n",
              "        const docLinkHtml = 'Like what you see? Visit the ' +\n",
              "          '<a target=\"_blank\" href=https://colab.research.google.com/notebooks/data_table.ipynb>data table notebook</a>'\n",
              "          + ' to learn more about interactive tables.';\n",
              "        element.innerHTML = '';\n",
              "        dataTable['output_type'] = 'display_data';\n",
              "        await google.colab.output.renderOutput(dataTable, element);\n",
              "        const docLink = document.createElement('div');\n",
              "        docLink.innerHTML = docLinkHtml;\n",
              "        element.appendChild(docLink);\n",
              "      }\n",
              "    </script>\n",
              "  </div>\n",
              "\n",
              "\n",
              "    <div id=\"df-0a36f4ec-0ec0-42da-bf03-34a460693a77\">\n",
              "      <button class=\"colab-df-quickchart\" onclick=\"quickchart('df-0a36f4ec-0ec0-42da-bf03-34a460693a77')\"\n",
              "                title=\"Suggest charts\"\n",
              "                style=\"display:none;\">\n",
              "\n",
              "<svg xmlns=\"http://www.w3.org/2000/svg\" height=\"24px\"viewBox=\"0 0 24 24\"\n",
              "     width=\"24px\">\n",
              "    <g>\n",
              "        <path d=\"M19 3H5c-1.1 0-2 .9-2 2v14c0 1.1.9 2 2 2h14c1.1 0 2-.9 2-2V5c0-1.1-.9-2-2-2zM9 17H7v-7h2v7zm4 0h-2V7h2v10zm4 0h-2v-4h2v4z\"/>\n",
              "    </g>\n",
              "</svg>\n",
              "      </button>\n",
              "\n",
              "<style>\n",
              "  .colab-df-quickchart {\n",
              "      --bg-color: #E8F0FE;\n",
              "      --fill-color: #1967D2;\n",
              "      --hover-bg-color: #E2EBFA;\n",
              "      --hover-fill-color: #174EA6;\n",
              "      --disabled-fill-color: #AAA;\n",
              "      --disabled-bg-color: #DDD;\n",
              "  }\n",
              "\n",
              "  [theme=dark] .colab-df-quickchart {\n",
              "      --bg-color: #3B4455;\n",
              "      --fill-color: #D2E3FC;\n",
              "      --hover-bg-color: #434B5C;\n",
              "      --hover-fill-color: #FFFFFF;\n",
              "      --disabled-bg-color: #3B4455;\n",
              "      --disabled-fill-color: #666;\n",
              "  }\n",
              "\n",
              "  .colab-df-quickchart {\n",
              "    background-color: var(--bg-color);\n",
              "    border: none;\n",
              "    border-radius: 50%;\n",
              "    cursor: pointer;\n",
              "    display: none;\n",
              "    fill: var(--fill-color);\n",
              "    height: 32px;\n",
              "    padding: 0;\n",
              "    width: 32px;\n",
              "  }\n",
              "\n",
              "  .colab-df-quickchart:hover {\n",
              "    background-color: var(--hover-bg-color);\n",
              "    box-shadow: 0 1px 2px rgba(60, 64, 67, 0.3), 0 1px 3px 1px rgba(60, 64, 67, 0.15);\n",
              "    fill: var(--button-hover-fill-color);\n",
              "  }\n",
              "\n",
              "  .colab-df-quickchart-complete:disabled,\n",
              "  .colab-df-quickchart-complete:disabled:hover {\n",
              "    background-color: var(--disabled-bg-color);\n",
              "    fill: var(--disabled-fill-color);\n",
              "    box-shadow: none;\n",
              "  }\n",
              "\n",
              "  .colab-df-spinner {\n",
              "    border: 2px solid var(--fill-color);\n",
              "    border-color: transparent;\n",
              "    border-bottom-color: var(--fill-color);\n",
              "    animation:\n",
              "      spin 1s steps(1) infinite;\n",
              "  }\n",
              "\n",
              "  @keyframes spin {\n",
              "    0% {\n",
              "      border-color: transparent;\n",
              "      border-bottom-color: var(--fill-color);\n",
              "      border-left-color: var(--fill-color);\n",
              "    }\n",
              "    20% {\n",
              "      border-color: transparent;\n",
              "      border-left-color: var(--fill-color);\n",
              "      border-top-color: var(--fill-color);\n",
              "    }\n",
              "    30% {\n",
              "      border-color: transparent;\n",
              "      border-left-color: var(--fill-color);\n",
              "      border-top-color: var(--fill-color);\n",
              "      border-right-color: var(--fill-color);\n",
              "    }\n",
              "    40% {\n",
              "      border-color: transparent;\n",
              "      border-right-color: var(--fill-color);\n",
              "      border-top-color: var(--fill-color);\n",
              "    }\n",
              "    60% {\n",
              "      border-color: transparent;\n",
              "      border-right-color: var(--fill-color);\n",
              "    }\n",
              "    80% {\n",
              "      border-color: transparent;\n",
              "      border-right-color: var(--fill-color);\n",
              "      border-bottom-color: var(--fill-color);\n",
              "    }\n",
              "    90% {\n",
              "      border-color: transparent;\n",
              "      border-bottom-color: var(--fill-color);\n",
              "    }\n",
              "  }\n",
              "</style>\n",
              "\n",
              "      <script>\n",
              "        async function quickchart(key) {\n",
              "          const quickchartButtonEl =\n",
              "            document.querySelector('#' + key + ' button');\n",
              "          quickchartButtonEl.disabled = true;  // To prevent multiple clicks.\n",
              "          quickchartButtonEl.classList.add('colab-df-spinner');\n",
              "          try {\n",
              "            const charts = await google.colab.kernel.invokeFunction(\n",
              "                'suggestCharts', [key], {});\n",
              "          } catch (error) {\n",
              "            console.error('Error during call to suggestCharts:', error);\n",
              "          }\n",
              "          quickchartButtonEl.classList.remove('colab-df-spinner');\n",
              "          quickchartButtonEl.classList.add('colab-df-quickchart-complete');\n",
              "        }\n",
              "        (() => {\n",
              "          let quickchartButtonEl =\n",
              "            document.querySelector('#df-0a36f4ec-0ec0-42da-bf03-34a460693a77 button');\n",
              "          quickchartButtonEl.style.display =\n",
              "            google.colab.kernel.accessAllowed ? 'block' : 'none';\n",
              "        })();\n",
              "      </script>\n",
              "    </div>\n",
              "\n",
              "    </div>\n",
              "  </div>\n"
            ],
            "application/vnd.google.colaboratory.intrinsic+json": {
              "type": "dataframe",
              "variable_name": "df"
            }
          },
          "metadata": {},
          "execution_count": 12
        }
      ]
    },
    {
      "cell_type": "code",
      "source": [
        "df.tail()"
      ],
      "metadata": {
        "colab": {
          "base_uri": "https://localhost:8080/",
          "height": 206
        },
        "id": "BdcYpg3xH0U1",
        "outputId": "df4acc39-0be2-4757-8f22-01545d0f62db"
      },
      "execution_count": 13,
      "outputs": [
        {
          "output_type": "execute_result",
          "data": {
            "text/plain": [
              "        Userkey                 UserBrand    SignUpDateTime  \\\n",
              "121542   684427  BrightLight South Africa  2012/11/24 16:40   \n",
              "121543  1335764  BrightLight South Africa  2013/04/02 18:01   \n",
              "121544  1710845  BrightLight South Africa  2012/08/23 10:36   \n",
              "121545  1078772  BrightLight South Africa  2012/04/06 08:19   \n",
              "121546  1613784  BrightLight South Africa  2011/11/17 06:36   \n",
              "\n",
              "                SignUpChannel  Unnamed: 4  \n",
              "121542  Acquisition Channel 3         NaN  \n",
              "121543  Acquisition Channel 3         NaN  \n",
              "121544  Acquisition Channel 3         NaN  \n",
              "121545  Acquisition Channel 3         NaN  \n",
              "121546  Acquisition Channel 3         NaN  "
            ],
            "text/html": [
              "\n",
              "  <div id=\"df-e830935f-6706-48b5-807d-2b2a1fa7a244\" class=\"colab-df-container\">\n",
              "    <div>\n",
              "<style scoped>\n",
              "    .dataframe tbody tr th:only-of-type {\n",
              "        vertical-align: middle;\n",
              "    }\n",
              "\n",
              "    .dataframe tbody tr th {\n",
              "        vertical-align: top;\n",
              "    }\n",
              "\n",
              "    .dataframe thead th {\n",
              "        text-align: right;\n",
              "    }\n",
              "</style>\n",
              "<table border=\"1\" class=\"dataframe\">\n",
              "  <thead>\n",
              "    <tr style=\"text-align: right;\">\n",
              "      <th></th>\n",
              "      <th>Userkey</th>\n",
              "      <th>UserBrand</th>\n",
              "      <th>SignUpDateTime</th>\n",
              "      <th>SignUpChannel</th>\n",
              "      <th>Unnamed: 4</th>\n",
              "    </tr>\n",
              "  </thead>\n",
              "  <tbody>\n",
              "    <tr>\n",
              "      <th>121542</th>\n",
              "      <td>684427</td>\n",
              "      <td>BrightLight South Africa</td>\n",
              "      <td>2012/11/24 16:40</td>\n",
              "      <td>Acquisition Channel 3</td>\n",
              "      <td>NaN</td>\n",
              "    </tr>\n",
              "    <tr>\n",
              "      <th>121543</th>\n",
              "      <td>1335764</td>\n",
              "      <td>BrightLight South Africa</td>\n",
              "      <td>2013/04/02 18:01</td>\n",
              "      <td>Acquisition Channel 3</td>\n",
              "      <td>NaN</td>\n",
              "    </tr>\n",
              "    <tr>\n",
              "      <th>121544</th>\n",
              "      <td>1710845</td>\n",
              "      <td>BrightLight South Africa</td>\n",
              "      <td>2012/08/23 10:36</td>\n",
              "      <td>Acquisition Channel 3</td>\n",
              "      <td>NaN</td>\n",
              "    </tr>\n",
              "    <tr>\n",
              "      <th>121545</th>\n",
              "      <td>1078772</td>\n",
              "      <td>BrightLight South Africa</td>\n",
              "      <td>2012/04/06 08:19</td>\n",
              "      <td>Acquisition Channel 3</td>\n",
              "      <td>NaN</td>\n",
              "    </tr>\n",
              "    <tr>\n",
              "      <th>121546</th>\n",
              "      <td>1613784</td>\n",
              "      <td>BrightLight South Africa</td>\n",
              "      <td>2011/11/17 06:36</td>\n",
              "      <td>Acquisition Channel 3</td>\n",
              "      <td>NaN</td>\n",
              "    </tr>\n",
              "  </tbody>\n",
              "</table>\n",
              "</div>\n",
              "    <div class=\"colab-df-buttons\">\n",
              "\n",
              "  <div class=\"colab-df-container\">\n",
              "    <button class=\"colab-df-convert\" onclick=\"convertToInteractive('df-e830935f-6706-48b5-807d-2b2a1fa7a244')\"\n",
              "            title=\"Convert this dataframe to an interactive table.\"\n",
              "            style=\"display:none;\">\n",
              "\n",
              "  <svg xmlns=\"http://www.w3.org/2000/svg\" height=\"24px\" viewBox=\"0 -960 960 960\">\n",
              "    <path d=\"M120-120v-720h720v720H120Zm60-500h600v-160H180v160Zm220 220h160v-160H400v160Zm0 220h160v-160H400v160ZM180-400h160v-160H180v160Zm440 0h160v-160H620v160ZM180-180h160v-160H180v160Zm440 0h160v-160H620v160Z\"/>\n",
              "  </svg>\n",
              "    </button>\n",
              "\n",
              "  <style>\n",
              "    .colab-df-container {\n",
              "      display:flex;\n",
              "      gap: 12px;\n",
              "    }\n",
              "\n",
              "    .colab-df-convert {\n",
              "      background-color: #E8F0FE;\n",
              "      border: none;\n",
              "      border-radius: 50%;\n",
              "      cursor: pointer;\n",
              "      display: none;\n",
              "      fill: #1967D2;\n",
              "      height: 32px;\n",
              "      padding: 0 0 0 0;\n",
              "      width: 32px;\n",
              "    }\n",
              "\n",
              "    .colab-df-convert:hover {\n",
              "      background-color: #E2EBFA;\n",
              "      box-shadow: 0px 1px 2px rgba(60, 64, 67, 0.3), 0px 1px 3px 1px rgba(60, 64, 67, 0.15);\n",
              "      fill: #174EA6;\n",
              "    }\n",
              "\n",
              "    .colab-df-buttons div {\n",
              "      margin-bottom: 4px;\n",
              "    }\n",
              "\n",
              "    [theme=dark] .colab-df-convert {\n",
              "      background-color: #3B4455;\n",
              "      fill: #D2E3FC;\n",
              "    }\n",
              "\n",
              "    [theme=dark] .colab-df-convert:hover {\n",
              "      background-color: #434B5C;\n",
              "      box-shadow: 0px 1px 3px 1px rgba(0, 0, 0, 0.15);\n",
              "      filter: drop-shadow(0px 1px 2px rgba(0, 0, 0, 0.3));\n",
              "      fill: #FFFFFF;\n",
              "    }\n",
              "  </style>\n",
              "\n",
              "    <script>\n",
              "      const buttonEl =\n",
              "        document.querySelector('#df-e830935f-6706-48b5-807d-2b2a1fa7a244 button.colab-df-convert');\n",
              "      buttonEl.style.display =\n",
              "        google.colab.kernel.accessAllowed ? 'block' : 'none';\n",
              "\n",
              "      async function convertToInteractive(key) {\n",
              "        const element = document.querySelector('#df-e830935f-6706-48b5-807d-2b2a1fa7a244');\n",
              "        const dataTable =\n",
              "          await google.colab.kernel.invokeFunction('convertToInteractive',\n",
              "                                                    [key], {});\n",
              "        if (!dataTable) return;\n",
              "\n",
              "        const docLinkHtml = 'Like what you see? Visit the ' +\n",
              "          '<a target=\"_blank\" href=https://colab.research.google.com/notebooks/data_table.ipynb>data table notebook</a>'\n",
              "          + ' to learn more about interactive tables.';\n",
              "        element.innerHTML = '';\n",
              "        dataTable['output_type'] = 'display_data';\n",
              "        await google.colab.output.renderOutput(dataTable, element);\n",
              "        const docLink = document.createElement('div');\n",
              "        docLink.innerHTML = docLinkHtml;\n",
              "        element.appendChild(docLink);\n",
              "      }\n",
              "    </script>\n",
              "  </div>\n",
              "\n",
              "\n",
              "    <div id=\"df-c3cb4255-bff8-4d2e-8032-acee0d66c994\">\n",
              "      <button class=\"colab-df-quickchart\" onclick=\"quickchart('df-c3cb4255-bff8-4d2e-8032-acee0d66c994')\"\n",
              "                title=\"Suggest charts\"\n",
              "                style=\"display:none;\">\n",
              "\n",
              "<svg xmlns=\"http://www.w3.org/2000/svg\" height=\"24px\"viewBox=\"0 0 24 24\"\n",
              "     width=\"24px\">\n",
              "    <g>\n",
              "        <path d=\"M19 3H5c-1.1 0-2 .9-2 2v14c0 1.1.9 2 2 2h14c1.1 0 2-.9 2-2V5c0-1.1-.9-2-2-2zM9 17H7v-7h2v7zm4 0h-2V7h2v10zm4 0h-2v-4h2v4z\"/>\n",
              "    </g>\n",
              "</svg>\n",
              "      </button>\n",
              "\n",
              "<style>\n",
              "  .colab-df-quickchart {\n",
              "      --bg-color: #E8F0FE;\n",
              "      --fill-color: #1967D2;\n",
              "      --hover-bg-color: #E2EBFA;\n",
              "      --hover-fill-color: #174EA6;\n",
              "      --disabled-fill-color: #AAA;\n",
              "      --disabled-bg-color: #DDD;\n",
              "  }\n",
              "\n",
              "  [theme=dark] .colab-df-quickchart {\n",
              "      --bg-color: #3B4455;\n",
              "      --fill-color: #D2E3FC;\n",
              "      --hover-bg-color: #434B5C;\n",
              "      --hover-fill-color: #FFFFFF;\n",
              "      --disabled-bg-color: #3B4455;\n",
              "      --disabled-fill-color: #666;\n",
              "  }\n",
              "\n",
              "  .colab-df-quickchart {\n",
              "    background-color: var(--bg-color);\n",
              "    border: none;\n",
              "    border-radius: 50%;\n",
              "    cursor: pointer;\n",
              "    display: none;\n",
              "    fill: var(--fill-color);\n",
              "    height: 32px;\n",
              "    padding: 0;\n",
              "    width: 32px;\n",
              "  }\n",
              "\n",
              "  .colab-df-quickchart:hover {\n",
              "    background-color: var(--hover-bg-color);\n",
              "    box-shadow: 0 1px 2px rgba(60, 64, 67, 0.3), 0 1px 3px 1px rgba(60, 64, 67, 0.15);\n",
              "    fill: var(--button-hover-fill-color);\n",
              "  }\n",
              "\n",
              "  .colab-df-quickchart-complete:disabled,\n",
              "  .colab-df-quickchart-complete:disabled:hover {\n",
              "    background-color: var(--disabled-bg-color);\n",
              "    fill: var(--disabled-fill-color);\n",
              "    box-shadow: none;\n",
              "  }\n",
              "\n",
              "  .colab-df-spinner {\n",
              "    border: 2px solid var(--fill-color);\n",
              "    border-color: transparent;\n",
              "    border-bottom-color: var(--fill-color);\n",
              "    animation:\n",
              "      spin 1s steps(1) infinite;\n",
              "  }\n",
              "\n",
              "  @keyframes spin {\n",
              "    0% {\n",
              "      border-color: transparent;\n",
              "      border-bottom-color: var(--fill-color);\n",
              "      border-left-color: var(--fill-color);\n",
              "    }\n",
              "    20% {\n",
              "      border-color: transparent;\n",
              "      border-left-color: var(--fill-color);\n",
              "      border-top-color: var(--fill-color);\n",
              "    }\n",
              "    30% {\n",
              "      border-color: transparent;\n",
              "      border-left-color: var(--fill-color);\n",
              "      border-top-color: var(--fill-color);\n",
              "      border-right-color: var(--fill-color);\n",
              "    }\n",
              "    40% {\n",
              "      border-color: transparent;\n",
              "      border-right-color: var(--fill-color);\n",
              "      border-top-color: var(--fill-color);\n",
              "    }\n",
              "    60% {\n",
              "      border-color: transparent;\n",
              "      border-right-color: var(--fill-color);\n",
              "    }\n",
              "    80% {\n",
              "      border-color: transparent;\n",
              "      border-right-color: var(--fill-color);\n",
              "      border-bottom-color: var(--fill-color);\n",
              "    }\n",
              "    90% {\n",
              "      border-color: transparent;\n",
              "      border-bottom-color: var(--fill-color);\n",
              "    }\n",
              "  }\n",
              "</style>\n",
              "\n",
              "      <script>\n",
              "        async function quickchart(key) {\n",
              "          const quickchartButtonEl =\n",
              "            document.querySelector('#' + key + ' button');\n",
              "          quickchartButtonEl.disabled = true;  // To prevent multiple clicks.\n",
              "          quickchartButtonEl.classList.add('colab-df-spinner');\n",
              "          try {\n",
              "            const charts = await google.colab.kernel.invokeFunction(\n",
              "                'suggestCharts', [key], {});\n",
              "          } catch (error) {\n",
              "            console.error('Error during call to suggestCharts:', error);\n",
              "          }\n",
              "          quickchartButtonEl.classList.remove('colab-df-spinner');\n",
              "          quickchartButtonEl.classList.add('colab-df-quickchart-complete');\n",
              "        }\n",
              "        (() => {\n",
              "          let quickchartButtonEl =\n",
              "            document.querySelector('#df-c3cb4255-bff8-4d2e-8032-acee0d66c994 button');\n",
              "          quickchartButtonEl.style.display =\n",
              "            google.colab.kernel.accessAllowed ? 'block' : 'none';\n",
              "        })();\n",
              "      </script>\n",
              "    </div>\n",
              "\n",
              "    </div>\n",
              "  </div>\n"
            ],
            "application/vnd.google.colaboratory.intrinsic+json": {
              "type": "dataframe",
              "repr_error": "0"
            }
          },
          "metadata": {},
          "execution_count": 13
        }
      ]
    },
    {
      "cell_type": "code",
      "source": [
        "df.describe()"
      ],
      "metadata": {
        "colab": {
          "base_uri": "https://localhost:8080/",
          "height": 300
        },
        "id": "AtkLv5FAIBcb",
        "outputId": "2669f0a7-4972-499c-9833-3d0ec31aeb5f"
      },
      "execution_count": 15,
      "outputs": [
        {
          "output_type": "execute_result",
          "data": {
            "text/plain": [
              "            Userkey  Unnamed: 4\n",
              "count  1.215470e+05         0.0\n",
              "mean   1.067961e+06         NaN\n",
              "std    3.860294e+05         NaN\n",
              "min    5.181680e+05         NaN\n",
              "25%    6.700075e+05         NaN\n",
              "50%    1.126582e+06         NaN\n",
              "75%    1.276640e+06         NaN\n",
              "max    2.151757e+06         NaN"
            ],
            "text/html": [
              "\n",
              "  <div id=\"df-3f4b8baf-9c54-49c3-a67f-c7d9052cc085\" class=\"colab-df-container\">\n",
              "    <div>\n",
              "<style scoped>\n",
              "    .dataframe tbody tr th:only-of-type {\n",
              "        vertical-align: middle;\n",
              "    }\n",
              "\n",
              "    .dataframe tbody tr th {\n",
              "        vertical-align: top;\n",
              "    }\n",
              "\n",
              "    .dataframe thead th {\n",
              "        text-align: right;\n",
              "    }\n",
              "</style>\n",
              "<table border=\"1\" class=\"dataframe\">\n",
              "  <thead>\n",
              "    <tr style=\"text-align: right;\">\n",
              "      <th></th>\n",
              "      <th>Userkey</th>\n",
              "      <th>Unnamed: 4</th>\n",
              "    </tr>\n",
              "  </thead>\n",
              "  <tbody>\n",
              "    <tr>\n",
              "      <th>count</th>\n",
              "      <td>1.215470e+05</td>\n",
              "      <td>0.0</td>\n",
              "    </tr>\n",
              "    <tr>\n",
              "      <th>mean</th>\n",
              "      <td>1.067961e+06</td>\n",
              "      <td>NaN</td>\n",
              "    </tr>\n",
              "    <tr>\n",
              "      <th>std</th>\n",
              "      <td>3.860294e+05</td>\n",
              "      <td>NaN</td>\n",
              "    </tr>\n",
              "    <tr>\n",
              "      <th>min</th>\n",
              "      <td>5.181680e+05</td>\n",
              "      <td>NaN</td>\n",
              "    </tr>\n",
              "    <tr>\n",
              "      <th>25%</th>\n",
              "      <td>6.700075e+05</td>\n",
              "      <td>NaN</td>\n",
              "    </tr>\n",
              "    <tr>\n",
              "      <th>50%</th>\n",
              "      <td>1.126582e+06</td>\n",
              "      <td>NaN</td>\n",
              "    </tr>\n",
              "    <tr>\n",
              "      <th>75%</th>\n",
              "      <td>1.276640e+06</td>\n",
              "      <td>NaN</td>\n",
              "    </tr>\n",
              "    <tr>\n",
              "      <th>max</th>\n",
              "      <td>2.151757e+06</td>\n",
              "      <td>NaN</td>\n",
              "    </tr>\n",
              "  </tbody>\n",
              "</table>\n",
              "</div>\n",
              "    <div class=\"colab-df-buttons\">\n",
              "\n",
              "  <div class=\"colab-df-container\">\n",
              "    <button class=\"colab-df-convert\" onclick=\"convertToInteractive('df-3f4b8baf-9c54-49c3-a67f-c7d9052cc085')\"\n",
              "            title=\"Convert this dataframe to an interactive table.\"\n",
              "            style=\"display:none;\">\n",
              "\n",
              "  <svg xmlns=\"http://www.w3.org/2000/svg\" height=\"24px\" viewBox=\"0 -960 960 960\">\n",
              "    <path d=\"M120-120v-720h720v720H120Zm60-500h600v-160H180v160Zm220 220h160v-160H400v160Zm0 220h160v-160H400v160ZM180-400h160v-160H180v160Zm440 0h160v-160H620v160ZM180-180h160v-160H180v160Zm440 0h160v-160H620v160Z\"/>\n",
              "  </svg>\n",
              "    </button>\n",
              "\n",
              "  <style>\n",
              "    .colab-df-container {\n",
              "      display:flex;\n",
              "      gap: 12px;\n",
              "    }\n",
              "\n",
              "    .colab-df-convert {\n",
              "      background-color: #E8F0FE;\n",
              "      border: none;\n",
              "      border-radius: 50%;\n",
              "      cursor: pointer;\n",
              "      display: none;\n",
              "      fill: #1967D2;\n",
              "      height: 32px;\n",
              "      padding: 0 0 0 0;\n",
              "      width: 32px;\n",
              "    }\n",
              "\n",
              "    .colab-df-convert:hover {\n",
              "      background-color: #E2EBFA;\n",
              "      box-shadow: 0px 1px 2px rgba(60, 64, 67, 0.3), 0px 1px 3px 1px rgba(60, 64, 67, 0.15);\n",
              "      fill: #174EA6;\n",
              "    }\n",
              "\n",
              "    .colab-df-buttons div {\n",
              "      margin-bottom: 4px;\n",
              "    }\n",
              "\n",
              "    [theme=dark] .colab-df-convert {\n",
              "      background-color: #3B4455;\n",
              "      fill: #D2E3FC;\n",
              "    }\n",
              "\n",
              "    [theme=dark] .colab-df-convert:hover {\n",
              "      background-color: #434B5C;\n",
              "      box-shadow: 0px 1px 3px 1px rgba(0, 0, 0, 0.15);\n",
              "      filter: drop-shadow(0px 1px 2px rgba(0, 0, 0, 0.3));\n",
              "      fill: #FFFFFF;\n",
              "    }\n",
              "  </style>\n",
              "\n",
              "    <script>\n",
              "      const buttonEl =\n",
              "        document.querySelector('#df-3f4b8baf-9c54-49c3-a67f-c7d9052cc085 button.colab-df-convert');\n",
              "      buttonEl.style.display =\n",
              "        google.colab.kernel.accessAllowed ? 'block' : 'none';\n",
              "\n",
              "      async function convertToInteractive(key) {\n",
              "        const element = document.querySelector('#df-3f4b8baf-9c54-49c3-a67f-c7d9052cc085');\n",
              "        const dataTable =\n",
              "          await google.colab.kernel.invokeFunction('convertToInteractive',\n",
              "                                                    [key], {});\n",
              "        if (!dataTable) return;\n",
              "\n",
              "        const docLinkHtml = 'Like what you see? Visit the ' +\n",
              "          '<a target=\"_blank\" href=https://colab.research.google.com/notebooks/data_table.ipynb>data table notebook</a>'\n",
              "          + ' to learn more about interactive tables.';\n",
              "        element.innerHTML = '';\n",
              "        dataTable['output_type'] = 'display_data';\n",
              "        await google.colab.output.renderOutput(dataTable, element);\n",
              "        const docLink = document.createElement('div');\n",
              "        docLink.innerHTML = docLinkHtml;\n",
              "        element.appendChild(docLink);\n",
              "      }\n",
              "    </script>\n",
              "  </div>\n",
              "\n",
              "\n",
              "    <div id=\"df-157fab1f-4a6f-4742-82c3-3376ea7a4a22\">\n",
              "      <button class=\"colab-df-quickchart\" onclick=\"quickchart('df-157fab1f-4a6f-4742-82c3-3376ea7a4a22')\"\n",
              "                title=\"Suggest charts\"\n",
              "                style=\"display:none;\">\n",
              "\n",
              "<svg xmlns=\"http://www.w3.org/2000/svg\" height=\"24px\"viewBox=\"0 0 24 24\"\n",
              "     width=\"24px\">\n",
              "    <g>\n",
              "        <path d=\"M19 3H5c-1.1 0-2 .9-2 2v14c0 1.1.9 2 2 2h14c1.1 0 2-.9 2-2V5c0-1.1-.9-2-2-2zM9 17H7v-7h2v7zm4 0h-2V7h2v10zm4 0h-2v-4h2v4z\"/>\n",
              "    </g>\n",
              "</svg>\n",
              "      </button>\n",
              "\n",
              "<style>\n",
              "  .colab-df-quickchart {\n",
              "      --bg-color: #E8F0FE;\n",
              "      --fill-color: #1967D2;\n",
              "      --hover-bg-color: #E2EBFA;\n",
              "      --hover-fill-color: #174EA6;\n",
              "      --disabled-fill-color: #AAA;\n",
              "      --disabled-bg-color: #DDD;\n",
              "  }\n",
              "\n",
              "  [theme=dark] .colab-df-quickchart {\n",
              "      --bg-color: #3B4455;\n",
              "      --fill-color: #D2E3FC;\n",
              "      --hover-bg-color: #434B5C;\n",
              "      --hover-fill-color: #FFFFFF;\n",
              "      --disabled-bg-color: #3B4455;\n",
              "      --disabled-fill-color: #666;\n",
              "  }\n",
              "\n",
              "  .colab-df-quickchart {\n",
              "    background-color: var(--bg-color);\n",
              "    border: none;\n",
              "    border-radius: 50%;\n",
              "    cursor: pointer;\n",
              "    display: none;\n",
              "    fill: var(--fill-color);\n",
              "    height: 32px;\n",
              "    padding: 0;\n",
              "    width: 32px;\n",
              "  }\n",
              "\n",
              "  .colab-df-quickchart:hover {\n",
              "    background-color: var(--hover-bg-color);\n",
              "    box-shadow: 0 1px 2px rgba(60, 64, 67, 0.3), 0 1px 3px 1px rgba(60, 64, 67, 0.15);\n",
              "    fill: var(--button-hover-fill-color);\n",
              "  }\n",
              "\n",
              "  .colab-df-quickchart-complete:disabled,\n",
              "  .colab-df-quickchart-complete:disabled:hover {\n",
              "    background-color: var(--disabled-bg-color);\n",
              "    fill: var(--disabled-fill-color);\n",
              "    box-shadow: none;\n",
              "  }\n",
              "\n",
              "  .colab-df-spinner {\n",
              "    border: 2px solid var(--fill-color);\n",
              "    border-color: transparent;\n",
              "    border-bottom-color: var(--fill-color);\n",
              "    animation:\n",
              "      spin 1s steps(1) infinite;\n",
              "  }\n",
              "\n",
              "  @keyframes spin {\n",
              "    0% {\n",
              "      border-color: transparent;\n",
              "      border-bottom-color: var(--fill-color);\n",
              "      border-left-color: var(--fill-color);\n",
              "    }\n",
              "    20% {\n",
              "      border-color: transparent;\n",
              "      border-left-color: var(--fill-color);\n",
              "      border-top-color: var(--fill-color);\n",
              "    }\n",
              "    30% {\n",
              "      border-color: transparent;\n",
              "      border-left-color: var(--fill-color);\n",
              "      border-top-color: var(--fill-color);\n",
              "      border-right-color: var(--fill-color);\n",
              "    }\n",
              "    40% {\n",
              "      border-color: transparent;\n",
              "      border-right-color: var(--fill-color);\n",
              "      border-top-color: var(--fill-color);\n",
              "    }\n",
              "    60% {\n",
              "      border-color: transparent;\n",
              "      border-right-color: var(--fill-color);\n",
              "    }\n",
              "    80% {\n",
              "      border-color: transparent;\n",
              "      border-right-color: var(--fill-color);\n",
              "      border-bottom-color: var(--fill-color);\n",
              "    }\n",
              "    90% {\n",
              "      border-color: transparent;\n",
              "      border-bottom-color: var(--fill-color);\n",
              "    }\n",
              "  }\n",
              "</style>\n",
              "\n",
              "      <script>\n",
              "        async function quickchart(key) {\n",
              "          const quickchartButtonEl =\n",
              "            document.querySelector('#' + key + ' button');\n",
              "          quickchartButtonEl.disabled = true;  // To prevent multiple clicks.\n",
              "          quickchartButtonEl.classList.add('colab-df-spinner');\n",
              "          try {\n",
              "            const charts = await google.colab.kernel.invokeFunction(\n",
              "                'suggestCharts', [key], {});\n",
              "          } catch (error) {\n",
              "            console.error('Error during call to suggestCharts:', error);\n",
              "          }\n",
              "          quickchartButtonEl.classList.remove('colab-df-spinner');\n",
              "          quickchartButtonEl.classList.add('colab-df-quickchart-complete');\n",
              "        }\n",
              "        (() => {\n",
              "          let quickchartButtonEl =\n",
              "            document.querySelector('#df-157fab1f-4a6f-4742-82c3-3376ea7a4a22 button');\n",
              "          quickchartButtonEl.style.display =\n",
              "            google.colab.kernel.accessAllowed ? 'block' : 'none';\n",
              "        })();\n",
              "      </script>\n",
              "    </div>\n",
              "\n",
              "    </div>\n",
              "  </div>\n"
            ],
            "application/vnd.google.colaboratory.intrinsic+json": {
              "type": "dataframe",
              "summary": "{\n  \"name\": \"df\",\n  \"rows\": 8,\n  \"fields\": [\n    {\n      \"column\": \"Userkey\",\n      \"properties\": {\n        \"dtype\": \"number\",\n        \"std\": 638680.4695802376,\n        \"min\": 121547.0,\n        \"max\": 2151757.0,\n        \"num_unique_values\": 8,\n        \"samples\": [\n          1067960.7423548093,\n          1126582.0,\n          121547.0\n        ],\n        \"semantic_type\": \"\",\n        \"description\": \"\"\n      }\n    },\n    {\n      \"column\": \"Unnamed: 4\",\n      \"properties\": {\n        \"dtype\": \"number\",\n        \"std\": null,\n        \"min\": 0.0,\n        \"max\": 0.0,\n        \"num_unique_values\": 1,\n        \"samples\": [\n          0.0\n        ],\n        \"semantic_type\": \"\",\n        \"description\": \"\"\n      }\n    }\n  ]\n}"
            }
          },
          "metadata": {},
          "execution_count": 15
        }
      ]
    },
    {
      "cell_type": "code",
      "source": [
        "df.shape"
      ],
      "metadata": {
        "colab": {
          "base_uri": "https://localhost:8080/"
        },
        "id": "n--xCjFQIsA3",
        "outputId": "21c18478-54c0-421b-e4d6-0e99971ee0e1"
      },
      "execution_count": 17,
      "outputs": [
        {
          "output_type": "execute_result",
          "data": {
            "text/plain": [
              "(121547, 5)"
            ]
          },
          "metadata": {},
          "execution_count": 17
        }
      ]
    },
    {
      "cell_type": "code",
      "source": [
        "df.T"
      ],
      "metadata": {
        "colab": {
          "base_uri": "https://localhost:8080/",
          "height": 325
        },
        "id": "_XAkHg10I6l2",
        "outputId": "4b3a9047-9213-4e00-a856-bd308fb5ccad"
      },
      "execution_count": 18,
      "outputs": [
        {
          "output_type": "execute_result",
          "data": {
            "text/plain": [
              "                                  0                         1       \\\n",
              "Userkey                           530830                    572050   \n",
              "UserBrand       BrightLight South Africa  BrightLight South Africa   \n",
              "SignUpDateTime          2011/05/27 13:42          2011/08/20 17:27   \n",
              "SignUpChannel      Acquisition Channel 3     Acquisition Channel 3   \n",
              "Unnamed: 4                           NaN                       NaN   \n",
              "\n",
              "                                  2                         3       \\\n",
              "Userkey                          1209336                   1187493   \n",
              "UserBrand       BrightLight South Africa  BrightLight South Africa   \n",
              "SignUpDateTime          2012/10/05 08:38          2012/01/01 03:48   \n",
              "SignUpChannel      Acquisition Channel 3     Acquisition Channel 3   \n",
              "Unnamed: 4                           NaN                       NaN   \n",
              "\n",
              "                                  4                         5       \\\n",
              "Userkey                          1253100                   1039339   \n",
              "UserBrand       BrightLight South Africa  BrightLight South Africa   \n",
              "SignUpDateTime          2012/07/22 11:25          2012/04/24 13:14   \n",
              "SignUpChannel      Acquisition Channel 3     Acquisition Channel 3   \n",
              "Unnamed: 4                           NaN                       NaN   \n",
              "\n",
              "                                  6                         7       \\\n",
              "Userkey                          1324388                    662925   \n",
              "UserBrand       BrightLight South Africa  BrightLight South Africa   \n",
              "SignUpDateTime          2013/02/06 09:58          2012/08/26 10:56   \n",
              "SignUpChannel      Acquisition Channel 3     Acquisition Channel 3   \n",
              "Unnamed: 4                           NaN                       NaN   \n",
              "\n",
              "                                  8                         9       ...  \\\n",
              "Userkey                          1025099                    571977  ...   \n",
              "UserBrand       BrightLight South Africa  BrightLight South Africa  ...   \n",
              "SignUpDateTime          2012/04/26 06:37          2011/08/20 07:17  ...   \n",
              "SignUpChannel      Acquisition Channel 3     Acquisition Channel 3  ...   \n",
              "Unnamed: 4                           NaN                       NaN  ...   \n",
              "\n",
              "                                  121537                    121538  \\\n",
              "Userkey                          1124119                   1164419   \n",
              "UserBrand       BrightLight South Africa  BrightLight South Africa   \n",
              "SignUpDateTime          2013/02/22 04:58          2011/09/29 12:44   \n",
              "SignUpChannel      Acquisition Channel 3     Acquisition Channel 3   \n",
              "Unnamed: 4                           NaN                       NaN   \n",
              "\n",
              "                                  121539                    121540  \\\n",
              "Userkey                           672008                   1085522   \n",
              "UserBrand       BrightLight South Africa  BrightLight South Africa   \n",
              "SignUpDateTime          2012/12/10 09:34          2011/07/04 21:21   \n",
              "SignUpChannel      Acquisition Channel 3     Acquisition Channel 3   \n",
              "Unnamed: 4                           NaN                       NaN   \n",
              "\n",
              "                                  121541                    121542  \\\n",
              "Userkey                          2139617                    684427   \n",
              "UserBrand       BrightLight South Africa  BrightLight South Africa   \n",
              "SignUpDateTime          2011/05/16 10:05          2012/11/24 16:40   \n",
              "SignUpChannel      Acquisition Channel 3     Acquisition Channel 3   \n",
              "Unnamed: 4                           NaN                       NaN   \n",
              "\n",
              "                                  121543                    121544  \\\n",
              "Userkey                          1335764                   1710845   \n",
              "UserBrand       BrightLight South Africa  BrightLight South Africa   \n",
              "SignUpDateTime          2013/04/02 18:01          2012/08/23 10:36   \n",
              "SignUpChannel      Acquisition Channel 3     Acquisition Channel 3   \n",
              "Unnamed: 4                           NaN                       NaN   \n",
              "\n",
              "                                  121545                    121546  \n",
              "Userkey                          1078772                   1613784  \n",
              "UserBrand       BrightLight South Africa  BrightLight South Africa  \n",
              "SignUpDateTime          2012/04/06 08:19          2011/11/17 06:36  \n",
              "SignUpChannel      Acquisition Channel 3     Acquisition Channel 3  \n",
              "Unnamed: 4                           NaN                       NaN  \n",
              "\n",
              "[5 rows x 121547 columns]"
            ],
            "text/html": [
              "\n",
              "  <div id=\"df-f2106644-523f-40a2-b034-eb55af14e09f\" class=\"colab-df-container\">\n",
              "    <div>\n",
              "<style scoped>\n",
              "    .dataframe tbody tr th:only-of-type {\n",
              "        vertical-align: middle;\n",
              "    }\n",
              "\n",
              "    .dataframe tbody tr th {\n",
              "        vertical-align: top;\n",
              "    }\n",
              "\n",
              "    .dataframe thead th {\n",
              "        text-align: right;\n",
              "    }\n",
              "</style>\n",
              "<table border=\"1\" class=\"dataframe\">\n",
              "  <thead>\n",
              "    <tr style=\"text-align: right;\">\n",
              "      <th></th>\n",
              "      <th>0</th>\n",
              "      <th>1</th>\n",
              "      <th>2</th>\n",
              "      <th>3</th>\n",
              "      <th>4</th>\n",
              "      <th>5</th>\n",
              "      <th>6</th>\n",
              "      <th>7</th>\n",
              "      <th>8</th>\n",
              "      <th>9</th>\n",
              "      <th>...</th>\n",
              "      <th>121537</th>\n",
              "      <th>121538</th>\n",
              "      <th>121539</th>\n",
              "      <th>121540</th>\n",
              "      <th>121541</th>\n",
              "      <th>121542</th>\n",
              "      <th>121543</th>\n",
              "      <th>121544</th>\n",
              "      <th>121545</th>\n",
              "      <th>121546</th>\n",
              "    </tr>\n",
              "  </thead>\n",
              "  <tbody>\n",
              "    <tr>\n",
              "      <th>Userkey</th>\n",
              "      <td>530830</td>\n",
              "      <td>572050</td>\n",
              "      <td>1209336</td>\n",
              "      <td>1187493</td>\n",
              "      <td>1253100</td>\n",
              "      <td>1039339</td>\n",
              "      <td>1324388</td>\n",
              "      <td>662925</td>\n",
              "      <td>1025099</td>\n",
              "      <td>571977</td>\n",
              "      <td>...</td>\n",
              "      <td>1124119</td>\n",
              "      <td>1164419</td>\n",
              "      <td>672008</td>\n",
              "      <td>1085522</td>\n",
              "      <td>2139617</td>\n",
              "      <td>684427</td>\n",
              "      <td>1335764</td>\n",
              "      <td>1710845</td>\n",
              "      <td>1078772</td>\n",
              "      <td>1613784</td>\n",
              "    </tr>\n",
              "    <tr>\n",
              "      <th>UserBrand</th>\n",
              "      <td>BrightLight South Africa</td>\n",
              "      <td>BrightLight South Africa</td>\n",
              "      <td>BrightLight South Africa</td>\n",
              "      <td>BrightLight South Africa</td>\n",
              "      <td>BrightLight South Africa</td>\n",
              "      <td>BrightLight South Africa</td>\n",
              "      <td>BrightLight South Africa</td>\n",
              "      <td>BrightLight South Africa</td>\n",
              "      <td>BrightLight South Africa</td>\n",
              "      <td>BrightLight South Africa</td>\n",
              "      <td>...</td>\n",
              "      <td>BrightLight South Africa</td>\n",
              "      <td>BrightLight South Africa</td>\n",
              "      <td>BrightLight South Africa</td>\n",
              "      <td>BrightLight South Africa</td>\n",
              "      <td>BrightLight South Africa</td>\n",
              "      <td>BrightLight South Africa</td>\n",
              "      <td>BrightLight South Africa</td>\n",
              "      <td>BrightLight South Africa</td>\n",
              "      <td>BrightLight South Africa</td>\n",
              "      <td>BrightLight South Africa</td>\n",
              "    </tr>\n",
              "    <tr>\n",
              "      <th>SignUpDateTime</th>\n",
              "      <td>2011/05/27 13:42</td>\n",
              "      <td>2011/08/20 17:27</td>\n",
              "      <td>2012/10/05 08:38</td>\n",
              "      <td>2012/01/01 03:48</td>\n",
              "      <td>2012/07/22 11:25</td>\n",
              "      <td>2012/04/24 13:14</td>\n",
              "      <td>2013/02/06 09:58</td>\n",
              "      <td>2012/08/26 10:56</td>\n",
              "      <td>2012/04/26 06:37</td>\n",
              "      <td>2011/08/20 07:17</td>\n",
              "      <td>...</td>\n",
              "      <td>2013/02/22 04:58</td>\n",
              "      <td>2011/09/29 12:44</td>\n",
              "      <td>2012/12/10 09:34</td>\n",
              "      <td>2011/07/04 21:21</td>\n",
              "      <td>2011/05/16 10:05</td>\n",
              "      <td>2012/11/24 16:40</td>\n",
              "      <td>2013/04/02 18:01</td>\n",
              "      <td>2012/08/23 10:36</td>\n",
              "      <td>2012/04/06 08:19</td>\n",
              "      <td>2011/11/17 06:36</td>\n",
              "    </tr>\n",
              "    <tr>\n",
              "      <th>SignUpChannel</th>\n",
              "      <td>Acquisition Channel 3</td>\n",
              "      <td>Acquisition Channel 3</td>\n",
              "      <td>Acquisition Channel 3</td>\n",
              "      <td>Acquisition Channel 3</td>\n",
              "      <td>Acquisition Channel 3</td>\n",
              "      <td>Acquisition Channel 3</td>\n",
              "      <td>Acquisition Channel 3</td>\n",
              "      <td>Acquisition Channel 3</td>\n",
              "      <td>Acquisition Channel 3</td>\n",
              "      <td>Acquisition Channel 3</td>\n",
              "      <td>...</td>\n",
              "      <td>Acquisition Channel 3</td>\n",
              "      <td>Acquisition Channel 3</td>\n",
              "      <td>Acquisition Channel 3</td>\n",
              "      <td>Acquisition Channel 3</td>\n",
              "      <td>Acquisition Channel 3</td>\n",
              "      <td>Acquisition Channel 3</td>\n",
              "      <td>Acquisition Channel 3</td>\n",
              "      <td>Acquisition Channel 3</td>\n",
              "      <td>Acquisition Channel 3</td>\n",
              "      <td>Acquisition Channel 3</td>\n",
              "    </tr>\n",
              "    <tr>\n",
              "      <th>Unnamed: 4</th>\n",
              "      <td>NaN</td>\n",
              "      <td>NaN</td>\n",
              "      <td>NaN</td>\n",
              "      <td>NaN</td>\n",
              "      <td>NaN</td>\n",
              "      <td>NaN</td>\n",
              "      <td>NaN</td>\n",
              "      <td>NaN</td>\n",
              "      <td>NaN</td>\n",
              "      <td>NaN</td>\n",
              "      <td>...</td>\n",
              "      <td>NaN</td>\n",
              "      <td>NaN</td>\n",
              "      <td>NaN</td>\n",
              "      <td>NaN</td>\n",
              "      <td>NaN</td>\n",
              "      <td>NaN</td>\n",
              "      <td>NaN</td>\n",
              "      <td>NaN</td>\n",
              "      <td>NaN</td>\n",
              "      <td>NaN</td>\n",
              "    </tr>\n",
              "  </tbody>\n",
              "</table>\n",
              "<p>5 rows × 121547 columns</p>\n",
              "</div>\n",
              "    <div class=\"colab-df-buttons\">\n",
              "\n",
              "  <div class=\"colab-df-container\">\n",
              "    <button class=\"colab-df-convert\" onclick=\"convertToInteractive('df-f2106644-523f-40a2-b034-eb55af14e09f')\"\n",
              "            title=\"Convert this dataframe to an interactive table.\"\n",
              "            style=\"display:none;\">\n",
              "\n",
              "  <svg xmlns=\"http://www.w3.org/2000/svg\" height=\"24px\" viewBox=\"0 -960 960 960\">\n",
              "    <path d=\"M120-120v-720h720v720H120Zm60-500h600v-160H180v160Zm220 220h160v-160H400v160Zm0 220h160v-160H400v160ZM180-400h160v-160H180v160Zm440 0h160v-160H620v160ZM180-180h160v-160H180v160Zm440 0h160v-160H620v160Z\"/>\n",
              "  </svg>\n",
              "    </button>\n",
              "\n",
              "  <style>\n",
              "    .colab-df-container {\n",
              "      display:flex;\n",
              "      gap: 12px;\n",
              "    }\n",
              "\n",
              "    .colab-df-convert {\n",
              "      background-color: #E8F0FE;\n",
              "      border: none;\n",
              "      border-radius: 50%;\n",
              "      cursor: pointer;\n",
              "      display: none;\n",
              "      fill: #1967D2;\n",
              "      height: 32px;\n",
              "      padding: 0 0 0 0;\n",
              "      width: 32px;\n",
              "    }\n",
              "\n",
              "    .colab-df-convert:hover {\n",
              "      background-color: #E2EBFA;\n",
              "      box-shadow: 0px 1px 2px rgba(60, 64, 67, 0.3), 0px 1px 3px 1px rgba(60, 64, 67, 0.15);\n",
              "      fill: #174EA6;\n",
              "    }\n",
              "\n",
              "    .colab-df-buttons div {\n",
              "      margin-bottom: 4px;\n",
              "    }\n",
              "\n",
              "    [theme=dark] .colab-df-convert {\n",
              "      background-color: #3B4455;\n",
              "      fill: #D2E3FC;\n",
              "    }\n",
              "\n",
              "    [theme=dark] .colab-df-convert:hover {\n",
              "      background-color: #434B5C;\n",
              "      box-shadow: 0px 1px 3px 1px rgba(0, 0, 0, 0.15);\n",
              "      filter: drop-shadow(0px 1px 2px rgba(0, 0, 0, 0.3));\n",
              "      fill: #FFFFFF;\n",
              "    }\n",
              "  </style>\n",
              "\n",
              "    <script>\n",
              "      const buttonEl =\n",
              "        document.querySelector('#df-f2106644-523f-40a2-b034-eb55af14e09f button.colab-df-convert');\n",
              "      buttonEl.style.display =\n",
              "        google.colab.kernel.accessAllowed ? 'block' : 'none';\n",
              "\n",
              "      async function convertToInteractive(key) {\n",
              "        const element = document.querySelector('#df-f2106644-523f-40a2-b034-eb55af14e09f');\n",
              "        const dataTable =\n",
              "          await google.colab.kernel.invokeFunction('convertToInteractive',\n",
              "                                                    [key], {});\n",
              "        if (!dataTable) return;\n",
              "\n",
              "        const docLinkHtml = 'Like what you see? Visit the ' +\n",
              "          '<a target=\"_blank\" href=https://colab.research.google.com/notebooks/data_table.ipynb>data table notebook</a>'\n",
              "          + ' to learn more about interactive tables.';\n",
              "        element.innerHTML = '';\n",
              "        dataTable['output_type'] = 'display_data';\n",
              "        await google.colab.output.renderOutput(dataTable, element);\n",
              "        const docLink = document.createElement('div');\n",
              "        docLink.innerHTML = docLinkHtml;\n",
              "        element.appendChild(docLink);\n",
              "      }\n",
              "    </script>\n",
              "  </div>\n",
              "\n",
              "\n",
              "    <div id=\"df-c5df36dd-f7c0-49bb-bed2-4425bf518491\">\n",
              "      <button class=\"colab-df-quickchart\" onclick=\"quickchart('df-c5df36dd-f7c0-49bb-bed2-4425bf518491')\"\n",
              "                title=\"Suggest charts\"\n",
              "                style=\"display:none;\">\n",
              "\n",
              "<svg xmlns=\"http://www.w3.org/2000/svg\" height=\"24px\"viewBox=\"0 0 24 24\"\n",
              "     width=\"24px\">\n",
              "    <g>\n",
              "        <path d=\"M19 3H5c-1.1 0-2 .9-2 2v14c0 1.1.9 2 2 2h14c1.1 0 2-.9 2-2V5c0-1.1-.9-2-2-2zM9 17H7v-7h2v7zm4 0h-2V7h2v10zm4 0h-2v-4h2v4z\"/>\n",
              "    </g>\n",
              "</svg>\n",
              "      </button>\n",
              "\n",
              "<style>\n",
              "  .colab-df-quickchart {\n",
              "      --bg-color: #E8F0FE;\n",
              "      --fill-color: #1967D2;\n",
              "      --hover-bg-color: #E2EBFA;\n",
              "      --hover-fill-color: #174EA6;\n",
              "      --disabled-fill-color: #AAA;\n",
              "      --disabled-bg-color: #DDD;\n",
              "  }\n",
              "\n",
              "  [theme=dark] .colab-df-quickchart {\n",
              "      --bg-color: #3B4455;\n",
              "      --fill-color: #D2E3FC;\n",
              "      --hover-bg-color: #434B5C;\n",
              "      --hover-fill-color: #FFFFFF;\n",
              "      --disabled-bg-color: #3B4455;\n",
              "      --disabled-fill-color: #666;\n",
              "  }\n",
              "\n",
              "  .colab-df-quickchart {\n",
              "    background-color: var(--bg-color);\n",
              "    border: none;\n",
              "    border-radius: 50%;\n",
              "    cursor: pointer;\n",
              "    display: none;\n",
              "    fill: var(--fill-color);\n",
              "    height: 32px;\n",
              "    padding: 0;\n",
              "    width: 32px;\n",
              "  }\n",
              "\n",
              "  .colab-df-quickchart:hover {\n",
              "    background-color: var(--hover-bg-color);\n",
              "    box-shadow: 0 1px 2px rgba(60, 64, 67, 0.3), 0 1px 3px 1px rgba(60, 64, 67, 0.15);\n",
              "    fill: var(--button-hover-fill-color);\n",
              "  }\n",
              "\n",
              "  .colab-df-quickchart-complete:disabled,\n",
              "  .colab-df-quickchart-complete:disabled:hover {\n",
              "    background-color: var(--disabled-bg-color);\n",
              "    fill: var(--disabled-fill-color);\n",
              "    box-shadow: none;\n",
              "  }\n",
              "\n",
              "  .colab-df-spinner {\n",
              "    border: 2px solid var(--fill-color);\n",
              "    border-color: transparent;\n",
              "    border-bottom-color: var(--fill-color);\n",
              "    animation:\n",
              "      spin 1s steps(1) infinite;\n",
              "  }\n",
              "\n",
              "  @keyframes spin {\n",
              "    0% {\n",
              "      border-color: transparent;\n",
              "      border-bottom-color: var(--fill-color);\n",
              "      border-left-color: var(--fill-color);\n",
              "    }\n",
              "    20% {\n",
              "      border-color: transparent;\n",
              "      border-left-color: var(--fill-color);\n",
              "      border-top-color: var(--fill-color);\n",
              "    }\n",
              "    30% {\n",
              "      border-color: transparent;\n",
              "      border-left-color: var(--fill-color);\n",
              "      border-top-color: var(--fill-color);\n",
              "      border-right-color: var(--fill-color);\n",
              "    }\n",
              "    40% {\n",
              "      border-color: transparent;\n",
              "      border-right-color: var(--fill-color);\n",
              "      border-top-color: var(--fill-color);\n",
              "    }\n",
              "    60% {\n",
              "      border-color: transparent;\n",
              "      border-right-color: var(--fill-color);\n",
              "    }\n",
              "    80% {\n",
              "      border-color: transparent;\n",
              "      border-right-color: var(--fill-color);\n",
              "      border-bottom-color: var(--fill-color);\n",
              "    }\n",
              "    90% {\n",
              "      border-color: transparent;\n",
              "      border-bottom-color: var(--fill-color);\n",
              "    }\n",
              "  }\n",
              "</style>\n",
              "\n",
              "      <script>\n",
              "        async function quickchart(key) {\n",
              "          const quickchartButtonEl =\n",
              "            document.querySelector('#' + key + ' button');\n",
              "          quickchartButtonEl.disabled = true;  // To prevent multiple clicks.\n",
              "          quickchartButtonEl.classList.add('colab-df-spinner');\n",
              "          try {\n",
              "            const charts = await google.colab.kernel.invokeFunction(\n",
              "                'suggestCharts', [key], {});\n",
              "          } catch (error) {\n",
              "            console.error('Error during call to suggestCharts:', error);\n",
              "          }\n",
              "          quickchartButtonEl.classList.remove('colab-df-spinner');\n",
              "          quickchartButtonEl.classList.add('colab-df-quickchart-complete');\n",
              "        }\n",
              "        (() => {\n",
              "          let quickchartButtonEl =\n",
              "            document.querySelector('#df-c5df36dd-f7c0-49bb-bed2-4425bf518491 button');\n",
              "          quickchartButtonEl.style.display =\n",
              "            google.colab.kernel.accessAllowed ? 'block' : 'none';\n",
              "        })();\n",
              "      </script>\n",
              "    </div>\n",
              "\n",
              "    </div>\n",
              "  </div>\n"
            ],
            "application/vnd.google.colaboratory.intrinsic+json": {
              "type": "dataframe"
            }
          },
          "metadata": {},
          "execution_count": 18
        }
      ]
    },
    {
      "cell_type": "code",
      "source": [
        "df.columns"
      ],
      "metadata": {
        "colab": {
          "base_uri": "https://localhost:8080/"
        },
        "id": "mj8l5PCsJHOI",
        "outputId": "ee6d6661-ff53-45c4-f8d2-bceb5b554e12"
      },
      "execution_count": 19,
      "outputs": [
        {
          "output_type": "execute_result",
          "data": {
            "text/plain": [
              "Index(['Userkey', 'UserBrand', 'SignUpDateTime', 'SignUpChannel',\n",
              "       'Unnamed: 4'],\n",
              "      dtype='object')"
            ]
          },
          "metadata": {},
          "execution_count": 19
        }
      ]
    },
    {
      "cell_type": "code",
      "source": [
        "df.mean"
      ],
      "metadata": {
        "colab": {
          "base_uri": "https://localhost:8080/",
          "height": 187
        },
        "id": "XmZZTxshJMQq",
        "outputId": "82cf6b77-d47b-489e-adb1-10e84b091426"
      },
      "execution_count": 20,
      "outputs": [
        {
          "output_type": "execute_result",
          "data": {
            "text/plain": [
              "<bound method DataFrame.mean of         Userkey                 UserBrand    SignUpDateTime  \\\n",
              "0        530830  BrightLight South Africa  2011/05/27 13:42   \n",
              "1        572050  BrightLight South Africa  2011/08/20 17:27   \n",
              "2       1209336  BrightLight South Africa  2012/10/05 08:38   \n",
              "3       1187493  BrightLight South Africa  2012/01/01 03:48   \n",
              "4       1253100  BrightLight South Africa  2012/07/22 11:25   \n",
              "...         ...                       ...               ...   \n",
              "121542   684427  BrightLight South Africa  2012/11/24 16:40   \n",
              "121543  1335764  BrightLight South Africa  2013/04/02 18:01   \n",
              "121544  1710845  BrightLight South Africa  2012/08/23 10:36   \n",
              "121545  1078772  BrightLight South Africa  2012/04/06 08:19   \n",
              "121546  1613784  BrightLight South Africa  2011/11/17 06:36   \n",
              "\n",
              "                SignUpChannel  Unnamed: 4  \n",
              "0       Acquisition Channel 3         NaN  \n",
              "1       Acquisition Channel 3         NaN  \n",
              "2       Acquisition Channel 3         NaN  \n",
              "3       Acquisition Channel 3         NaN  \n",
              "4       Acquisition Channel 3         NaN  \n",
              "...                       ...         ...  \n",
              "121542  Acquisition Channel 3         NaN  \n",
              "121543  Acquisition Channel 3         NaN  \n",
              "121544  Acquisition Channel 3         NaN  \n",
              "121545  Acquisition Channel 3         NaN  \n",
              "121546  Acquisition Channel 3         NaN  \n",
              "\n",
              "[121547 rows x 5 columns]>"
            ],
            "text/html": [
              "<div style=\"max-width:800px; border: 1px solid var(--colab-border-color);\"><style>\n",
              "      pre.function-repr-contents {\n",
              "        overflow-x: auto;\n",
              "        padding: 8px 12px;\n",
              "        max-height: 500px;\n",
              "      }\n",
              "\n",
              "      pre.function-repr-contents.function-repr-contents-collapsed {\n",
              "        cursor: pointer;\n",
              "        max-height: 100px;\n",
              "      }\n",
              "    </style>\n",
              "    <pre style=\"white-space: initial; background:\n",
              "         var(--colab-secondary-surface-color); padding: 8px 12px;\n",
              "         border-bottom: 1px solid var(--colab-border-color);\"><b>pandas.core.frame.DataFrame.mean</b><br/>def mean(axis: Axis | None=0, skipna: bool=True, numeric_only: bool=False, **kwargs)</pre><pre class=\"function-repr-contents function-repr-contents-collapsed\" style=\"\"><a class=\"filepath\" style=\"display:none\" href=\"#\">/usr/local/lib/python3.12/dist-packages/pandas/core/frame.py</a>Return the mean of the values over the requested axis.\n",
              "\n",
              "Parameters\n",
              "----------\n",
              "axis : {index (0), columns (1)}\n",
              "    Axis for the function to be applied on.\n",
              "    For `Series` this parameter is unused and defaults to 0.\n",
              "\n",
              "    For DataFrames, specifying ``axis=None`` will apply the aggregation\n",
              "    across both axes.\n",
              "\n",
              "    .. versionadded:: 2.0.0\n",
              "\n",
              "skipna : bool, default True\n",
              "    Exclude NA/null values when computing the result.\n",
              "numeric_only : bool, default False\n",
              "    Include only float, int, boolean columns. Not implemented for Series.\n",
              "\n",
              "**kwargs\n",
              "    Additional keyword arguments to be passed to the function.\n",
              "\n",
              "Returns\n",
              "-------\n",
              "Series or scalar\n",
              "\n",
              "            Examples\n",
              "            --------\n",
              "            &gt;&gt;&gt; s = pd.Series([1, 2, 3])\n",
              "            &gt;&gt;&gt; s.mean()\n",
              "            2.0\n",
              "\n",
              "            With a DataFrame\n",
              "\n",
              "            &gt;&gt;&gt; df = pd.DataFrame({&#x27;a&#x27;: [1, 2], &#x27;b&#x27;: [2, 3]}, index=[&#x27;tiger&#x27;, &#x27;zebra&#x27;])\n",
              "            &gt;&gt;&gt; df\n",
              "                   a   b\n",
              "            tiger  1   2\n",
              "            zebra  2   3\n",
              "            &gt;&gt;&gt; df.mean()\n",
              "            a   1.5\n",
              "            b   2.5\n",
              "            dtype: float64\n",
              "\n",
              "            Using axis=1\n",
              "\n",
              "            &gt;&gt;&gt; df.mean(axis=1)\n",
              "            tiger   1.5\n",
              "            zebra   2.5\n",
              "            dtype: float64\n",
              "\n",
              "            In this case, `numeric_only` should be set to `True` to avoid\n",
              "            getting an error.\n",
              "\n",
              "            &gt;&gt;&gt; df = pd.DataFrame({&#x27;a&#x27;: [1, 2], &#x27;b&#x27;: [&#x27;T&#x27;, &#x27;Z&#x27;]},\n",
              "            ...                   index=[&#x27;tiger&#x27;, &#x27;zebra&#x27;])\n",
              "            &gt;&gt;&gt; df.mean(numeric_only=True)\n",
              "            a   1.5\n",
              "            dtype: float64</pre>\n",
              "      <script>\n",
              "      if (google.colab.kernel.accessAllowed && google.colab.files && google.colab.files.view) {\n",
              "        for (const element of document.querySelectorAll('.filepath')) {\n",
              "          element.style.display = 'block'\n",
              "          element.onclick = (event) => {\n",
              "            event.preventDefault();\n",
              "            event.stopPropagation();\n",
              "            google.colab.files.view(element.textContent, 11685);\n",
              "          };\n",
              "        }\n",
              "      }\n",
              "      for (const element of document.querySelectorAll('.function-repr-contents')) {\n",
              "        element.onclick = (event) => {\n",
              "          event.preventDefault();\n",
              "          event.stopPropagation();\n",
              "          element.classList.toggle('function-repr-contents-collapsed');\n",
              "        };\n",
              "      }\n",
              "      </script>\n",
              "      </div>"
            ]
          },
          "metadata": {},
          "execution_count": 20
        }
      ]
    },
    {
      "cell_type": "code",
      "source": [
        "df.info"
      ],
      "metadata": {
        "colab": {
          "base_uri": "https://localhost:8080/",
          "height": 204
        },
        "id": "CZIlGfS_Jj2P",
        "outputId": "b59a1386-6df9-4ba9-b02e-a0248070ad8d"
      },
      "execution_count": 21,
      "outputs": [
        {
          "output_type": "execute_result",
          "data": {
            "text/plain": [
              "<bound method DataFrame.info of         Userkey                 UserBrand    SignUpDateTime  \\\n",
              "0        530830  BrightLight South Africa  2011/05/27 13:42   \n",
              "1        572050  BrightLight South Africa  2011/08/20 17:27   \n",
              "2       1209336  BrightLight South Africa  2012/10/05 08:38   \n",
              "3       1187493  BrightLight South Africa  2012/01/01 03:48   \n",
              "4       1253100  BrightLight South Africa  2012/07/22 11:25   \n",
              "...         ...                       ...               ...   \n",
              "121542   684427  BrightLight South Africa  2012/11/24 16:40   \n",
              "121543  1335764  BrightLight South Africa  2013/04/02 18:01   \n",
              "121544  1710845  BrightLight South Africa  2012/08/23 10:36   \n",
              "121545  1078772  BrightLight South Africa  2012/04/06 08:19   \n",
              "121546  1613784  BrightLight South Africa  2011/11/17 06:36   \n",
              "\n",
              "                SignUpChannel  Unnamed: 4  \n",
              "0       Acquisition Channel 3         NaN  \n",
              "1       Acquisition Channel 3         NaN  \n",
              "2       Acquisition Channel 3         NaN  \n",
              "3       Acquisition Channel 3         NaN  \n",
              "4       Acquisition Channel 3         NaN  \n",
              "...                       ...         ...  \n",
              "121542  Acquisition Channel 3         NaN  \n",
              "121543  Acquisition Channel 3         NaN  \n",
              "121544  Acquisition Channel 3         NaN  \n",
              "121545  Acquisition Channel 3         NaN  \n",
              "121546  Acquisition Channel 3         NaN  \n",
              "\n",
              "[121547 rows x 5 columns]>"
            ],
            "text/html": [
              "<div style=\"max-width:800px; border: 1px solid var(--colab-border-color);\"><style>\n",
              "      pre.function-repr-contents {\n",
              "        overflow-x: auto;\n",
              "        padding: 8px 12px;\n",
              "        max-height: 500px;\n",
              "      }\n",
              "\n",
              "      pre.function-repr-contents.function-repr-contents-collapsed {\n",
              "        cursor: pointer;\n",
              "        max-height: 100px;\n",
              "      }\n",
              "    </style>\n",
              "    <pre style=\"white-space: initial; background:\n",
              "         var(--colab-secondary-surface-color); padding: 8px 12px;\n",
              "         border-bottom: 1px solid var(--colab-border-color);\"><b>pandas.core.frame.DataFrame.info</b><br/>def info(verbose: bool | None=None, buf: WriteBuffer[str] | None=None, max_cols: int | None=None, memory_usage: bool | str | None=None, show_counts: bool | None=None) -&gt; None</pre><pre class=\"function-repr-contents function-repr-contents-collapsed\" style=\"\"><a class=\"filepath\" style=\"display:none\" href=\"#\">/usr/local/lib/python3.12/dist-packages/pandas/core/frame.py</a>Print a concise summary of a DataFrame.\n",
              "\n",
              "This method prints information about a DataFrame including\n",
              "the index dtype and columns, non-null values and memory usage.\n",
              "\n",
              "Parameters\n",
              "----------\n",
              "verbose : bool, optional\n",
              "    Whether to print the full summary. By default, the setting in\n",
              "    ``pandas.options.display.max_info_columns`` is followed.\n",
              "buf : writable buffer, defaults to sys.stdout\n",
              "    Where to send the output. By default, the output is printed to\n",
              "    sys.stdout. Pass a writable buffer if you need to further process\n",
              "    the output.\n",
              "max_cols : int, optional\n",
              "    When to switch from the verbose to the truncated output. If the\n",
              "    DataFrame has more than `max_cols` columns, the truncated output\n",
              "    is used. By default, the setting in\n",
              "    ``pandas.options.display.max_info_columns`` is used.\n",
              "memory_usage : bool, str, optional\n",
              "    Specifies whether total memory usage of the DataFrame\n",
              "    elements (including the index) should be displayed. By default,\n",
              "    this follows the ``pandas.options.display.memory_usage`` setting.\n",
              "\n",
              "    True always show memory usage. False never shows memory usage.\n",
              "    A value of &#x27;deep&#x27; is equivalent to &quot;True with deep introspection&quot;.\n",
              "    Memory usage is shown in human-readable units (base-2\n",
              "    representation). Without deep introspection a memory estimation is\n",
              "    made based in column dtype and number of rows assuming values\n",
              "    consume the same memory amount for corresponding dtypes. With deep\n",
              "    memory introspection, a real memory usage calculation is performed\n",
              "    at the cost of computational resources. See the\n",
              "    :ref:`Frequently Asked Questions &lt;df-memory-usage&gt;` for more\n",
              "    details.\n",
              "show_counts : bool, optional\n",
              "    Whether to show the non-null counts. By default, this is shown\n",
              "    only if the DataFrame is smaller than\n",
              "    ``pandas.options.display.max_info_rows`` and\n",
              "    ``pandas.options.display.max_info_columns``. A value of True always\n",
              "    shows the counts, and False never shows the counts.\n",
              "\n",
              "Returns\n",
              "-------\n",
              "None\n",
              "    This method prints a summary of a DataFrame and returns None.\n",
              "\n",
              "See Also\n",
              "--------\n",
              "DataFrame.describe: Generate descriptive statistics of DataFrame\n",
              "    columns.\n",
              "DataFrame.memory_usage: Memory usage of DataFrame columns.\n",
              "\n",
              "Examples\n",
              "--------\n",
              "&gt;&gt;&gt; int_values = [1, 2, 3, 4, 5]\n",
              "&gt;&gt;&gt; text_values = [&#x27;alpha&#x27;, &#x27;beta&#x27;, &#x27;gamma&#x27;, &#x27;delta&#x27;, &#x27;epsilon&#x27;]\n",
              "&gt;&gt;&gt; float_values = [0.0, 0.25, 0.5, 0.75, 1.0]\n",
              "&gt;&gt;&gt; df = pd.DataFrame({&quot;int_col&quot;: int_values, &quot;text_col&quot;: text_values,\n",
              "...                   &quot;float_col&quot;: float_values})\n",
              "&gt;&gt;&gt; df\n",
              "    int_col text_col  float_col\n",
              "0        1    alpha       0.00\n",
              "1        2     beta       0.25\n",
              "2        3    gamma       0.50\n",
              "3        4    delta       0.75\n",
              "4        5  epsilon       1.00\n",
              "\n",
              "Prints information of all columns:\n",
              "\n",
              "&gt;&gt;&gt; df.info(verbose=True)\n",
              "&lt;class &#x27;pandas.core.frame.DataFrame&#x27;&gt;\n",
              "RangeIndex: 5 entries, 0 to 4\n",
              "Data columns (total 3 columns):\n",
              " #   Column     Non-Null Count  Dtype\n",
              "---  ------     --------------  -----\n",
              " 0   int_col    5 non-null      int64\n",
              " 1   text_col   5 non-null      object\n",
              " 2   float_col  5 non-null      float64\n",
              "dtypes: float64(1), int64(1), object(1)\n",
              "memory usage: 248.0+ bytes\n",
              "\n",
              "Prints a summary of columns count and its dtypes but not per column\n",
              "information:\n",
              "\n",
              "&gt;&gt;&gt; df.info(verbose=False)\n",
              "&lt;class &#x27;pandas.core.frame.DataFrame&#x27;&gt;\n",
              "RangeIndex: 5 entries, 0 to 4\n",
              "Columns: 3 entries, int_col to float_col\n",
              "dtypes: float64(1), int64(1), object(1)\n",
              "memory usage: 248.0+ bytes\n",
              "\n",
              "Pipe output of DataFrame.info to buffer instead of sys.stdout, get\n",
              "buffer content and writes to a text file:\n",
              "\n",
              "&gt;&gt;&gt; import io\n",
              "&gt;&gt;&gt; buffer = io.StringIO()\n",
              "&gt;&gt;&gt; df.info(buf=buffer)\n",
              "&gt;&gt;&gt; s = buffer.getvalue()\n",
              "&gt;&gt;&gt; with open(&quot;df_info.txt&quot;, &quot;w&quot;,\n",
              "...           encoding=&quot;utf-8&quot;) as f:  # doctest: +SKIP\n",
              "...     f.write(s)\n",
              "260\n",
              "\n",
              "The `memory_usage` parameter allows deep introspection mode, specially\n",
              "useful for big DataFrames and fine-tune memory optimization:\n",
              "\n",
              "&gt;&gt;&gt; random_strings_array = np.random.choice([&#x27;a&#x27;, &#x27;b&#x27;, &#x27;c&#x27;], 10 ** 6)\n",
              "&gt;&gt;&gt; df = pd.DataFrame({\n",
              "...     &#x27;column_1&#x27;: np.random.choice([&#x27;a&#x27;, &#x27;b&#x27;, &#x27;c&#x27;], 10 ** 6),\n",
              "...     &#x27;column_2&#x27;: np.random.choice([&#x27;a&#x27;, &#x27;b&#x27;, &#x27;c&#x27;], 10 ** 6),\n",
              "...     &#x27;column_3&#x27;: np.random.choice([&#x27;a&#x27;, &#x27;b&#x27;, &#x27;c&#x27;], 10 ** 6)\n",
              "... })\n",
              "&gt;&gt;&gt; df.info()\n",
              "&lt;class &#x27;pandas.core.frame.DataFrame&#x27;&gt;\n",
              "RangeIndex: 1000000 entries, 0 to 999999\n",
              "Data columns (total 3 columns):\n",
              " #   Column    Non-Null Count    Dtype\n",
              "---  ------    --------------    -----\n",
              " 0   column_1  1000000 non-null  object\n",
              " 1   column_2  1000000 non-null  object\n",
              " 2   column_3  1000000 non-null  object\n",
              "dtypes: object(3)\n",
              "memory usage: 22.9+ MB\n",
              "\n",
              "&gt;&gt;&gt; df.info(memory_usage=&#x27;deep&#x27;)\n",
              "&lt;class &#x27;pandas.core.frame.DataFrame&#x27;&gt;\n",
              "RangeIndex: 1000000 entries, 0 to 999999\n",
              "Data columns (total 3 columns):\n",
              " #   Column    Non-Null Count    Dtype\n",
              "---  ------    --------------    -----\n",
              " 0   column_1  1000000 non-null  object\n",
              " 1   column_2  1000000 non-null  object\n",
              " 2   column_3  1000000 non-null  object\n",
              "dtypes: object(3)\n",
              "memory usage: 165.9 MB</pre>\n",
              "      <script>\n",
              "      if (google.colab.kernel.accessAllowed && google.colab.files && google.colab.files.view) {\n",
              "        for (const element of document.querySelectorAll('.filepath')) {\n",
              "          element.style.display = 'block'\n",
              "          element.onclick = (event) => {\n",
              "            event.preventDefault();\n",
              "            event.stopPropagation();\n",
              "            google.colab.files.view(element.textContent, 3646);\n",
              "          };\n",
              "        }\n",
              "      }\n",
              "      for (const element of document.querySelectorAll('.function-repr-contents')) {\n",
              "        element.onclick = (event) => {\n",
              "          event.preventDefault();\n",
              "          event.stopPropagation();\n",
              "          element.classList.toggle('function-repr-contents-collapsed');\n",
              "        };\n",
              "      }\n",
              "      </script>\n",
              "      </div>"
            ]
          },
          "metadata": {},
          "execution_count": 21
        }
      ]
    },
    {
      "cell_type": "code",
      "source": [
        "df.index"
      ],
      "metadata": {
        "colab": {
          "base_uri": "https://localhost:8080/"
        },
        "id": "cQj-KFsYKEdR",
        "outputId": "f6868be0-5928-4d88-fec9-ec36565b8c47"
      },
      "execution_count": 22,
      "outputs": [
        {
          "output_type": "execute_result",
          "data": {
            "text/plain": [
              "RangeIndex(start=0, stop=121547, step=1)"
            ]
          },
          "metadata": {},
          "execution_count": 22
        }
      ]
    },
    {
      "cell_type": "code",
      "source": [
        "#data manipulation"
      ],
      "metadata": {
        "id": "asLF73RrKJG7"
      },
      "execution_count": 23,
      "outputs": []
    },
    {
      "cell_type": "code",
      "source": [
        "# sepating the date colume into date and time seperately"
      ],
      "metadata": {
        "id": "8602ZcTrKgyG"
      },
      "execution_count": 24,
      "outputs": []
    },
    {
      "cell_type": "code",
      "source": [
        "df[['SignUpDate','SignUpTime']]=df['SignUpDateTime'].str.split(expand=True)"
      ],
      "metadata": {
        "id": "kX-HXgadKugM"
      },
      "execution_count": 26,
      "outputs": []
    },
    {
      "cell_type": "markdown",
      "metadata": {
        "id": "902982a9"
      },
      "source": [
        "# Task\n",
        "Analyze the provided code to identify and explain any errors. If possible, fix the errors and integrate the corrections into the existing code. If direct correction is not feasible, diagnose the issues present in the code. Additionally, perform data manipulation and analysis on the dataset \"user_data.csv\" by converting the `SignUpDate` column to datetime objects, analyzing the distribution of users across `UserBrand` and `SignUpChannel`, extracting features from `SignUpDate` or `SignUpTime`, and checking for missing values. Finally, summarize the findings from the data manipulation and analysis."
      ]
    },
    {
      "cell_type": "markdown",
      "metadata": {
        "id": "695b4603"
      },
      "source": [
        "## Convert the `signupdate` column to datetime objects.\n",
        "\n",
        "### Subtask:\n",
        "Convert the `SignUpDate` column to datetime objects.\n"
      ]
    },
    {
      "cell_type": "markdown",
      "metadata": {
        "id": "f3201ea3"
      },
      "source": [
        "**Reasoning**:\n",
        "Convert the `SignUpDate` column to datetime objects.\n",
        "\n"
      ]
    },
    {
      "cell_type": "code",
      "metadata": {
        "colab": {
          "base_uri": "https://localhost:8080/",
          "height": 277
        },
        "id": "ad0ac13f",
        "outputId": "ac34e57a-d9e1-452b-ca72-77d2ef20d34f"
      },
      "source": [
        "df['SignUpDate'] = pd.to_datetime(df['SignUpDate'])\n",
        "display(df.info())"
      ],
      "execution_count": 27,
      "outputs": [
        {
          "output_type": "stream",
          "name": "stdout",
          "text": [
            "<class 'pandas.core.frame.DataFrame'>\n",
            "RangeIndex: 121547 entries, 0 to 121546\n",
            "Data columns (total 7 columns):\n",
            " #   Column          Non-Null Count   Dtype         \n",
            "---  ------          --------------   -----         \n",
            " 0   Userkey         121547 non-null  int64         \n",
            " 1   UserBrand       121547 non-null  object        \n",
            " 2   SignUpDateTime  121547 non-null  object        \n",
            " 3   SignUpChannel   121547 non-null  object        \n",
            " 4   Unnamed: 4      0 non-null       float64       \n",
            " 5   SignUpDate      121547 non-null  datetime64[ns]\n",
            " 6   SignUpTime      121547 non-null  object        \n",
            "dtypes: datetime64[ns](1), float64(1), int64(1), object(4)\n",
            "memory usage: 6.5+ MB\n"
          ]
        },
        {
          "output_type": "display_data",
          "data": {
            "text/plain": [
              "None"
            ]
          },
          "metadata": {}
        }
      ]
    },
    {
      "cell_type": "markdown",
      "metadata": {
        "id": "c49b227c"
      },
      "source": [
        "## Analyze the distribution of users across different `userbrand` and `signupchannel`.\n",
        "\n",
        "### Subtask:\n",
        "Analyze the distribution of users across different `UserBrand` and `SignUpChannel`.\n"
      ]
    },
    {
      "cell_type": "markdown",
      "metadata": {
        "id": "762636f2"
      },
      "source": [
        "**Reasoning**:\n",
        "Calculate and display the value counts for `UserBrand` and `SignUpChannel` to analyze user distribution across these categories.\n",
        "\n"
      ]
    },
    {
      "cell_type": "code",
      "metadata": {
        "colab": {
          "base_uri": "https://localhost:8080/",
          "height": 391
        },
        "id": "76524d15",
        "outputId": "f294b430-5ff9-4ec9-b0b9-6a70fcf81513"
      },
      "source": [
        "user_brand_distribution = df['UserBrand'].value_counts()\n",
        "signup_channel_distribution = df['SignUpChannel'].value_counts()\n",
        "print(\"Distribution of users across UserBrand:\")\n",
        "display(user_brand_distribution)\n",
        "print(\"\\nDistribution of users across SignUpChannel:\")\n",
        "display(signup_channel_distribution)"
      ],
      "execution_count": 28,
      "outputs": [
        {
          "output_type": "stream",
          "name": "stdout",
          "text": [
            "Distribution of users across UserBrand:\n"
          ]
        },
        {
          "output_type": "display_data",
          "data": {
            "text/plain": [
              "UserBrand\n",
              "BrightLight South Africa    121369\n",
              "BrightLight Botswana           178\n",
              "Name: count, dtype: int64"
            ],
            "text/html": [
              "<div>\n",
              "<style scoped>\n",
              "    .dataframe tbody tr th:only-of-type {\n",
              "        vertical-align: middle;\n",
              "    }\n",
              "\n",
              "    .dataframe tbody tr th {\n",
              "        vertical-align: top;\n",
              "    }\n",
              "\n",
              "    .dataframe thead th {\n",
              "        text-align: right;\n",
              "    }\n",
              "</style>\n",
              "<table border=\"1\" class=\"dataframe\">\n",
              "  <thead>\n",
              "    <tr style=\"text-align: right;\">\n",
              "      <th></th>\n",
              "      <th>count</th>\n",
              "    </tr>\n",
              "    <tr>\n",
              "      <th>UserBrand</th>\n",
              "      <th></th>\n",
              "    </tr>\n",
              "  </thead>\n",
              "  <tbody>\n",
              "    <tr>\n",
              "      <th>BrightLight South Africa</th>\n",
              "      <td>121369</td>\n",
              "    </tr>\n",
              "    <tr>\n",
              "      <th>BrightLight Botswana</th>\n",
              "      <td>178</td>\n",
              "    </tr>\n",
              "  </tbody>\n",
              "</table>\n",
              "</div><br><label><b>dtype:</b> int64</label>"
            ]
          },
          "metadata": {}
        },
        {
          "output_type": "stream",
          "name": "stdout",
          "text": [
            "\n",
            "Distribution of users across SignUpChannel:\n"
          ]
        },
        {
          "output_type": "display_data",
          "data": {
            "text/plain": [
              "SignUpChannel\n",
              "Acquisition Channel 3    117068\n",
              "Acquisition Channel 1      4479\n",
              "Name: count, dtype: int64"
            ],
            "text/html": [
              "<div>\n",
              "<style scoped>\n",
              "    .dataframe tbody tr th:only-of-type {\n",
              "        vertical-align: middle;\n",
              "    }\n",
              "\n",
              "    .dataframe tbody tr th {\n",
              "        vertical-align: top;\n",
              "    }\n",
              "\n",
              "    .dataframe thead th {\n",
              "        text-align: right;\n",
              "    }\n",
              "</style>\n",
              "<table border=\"1\" class=\"dataframe\">\n",
              "  <thead>\n",
              "    <tr style=\"text-align: right;\">\n",
              "      <th></th>\n",
              "      <th>count</th>\n",
              "    </tr>\n",
              "    <tr>\n",
              "      <th>SignUpChannel</th>\n",
              "      <th></th>\n",
              "    </tr>\n",
              "  </thead>\n",
              "  <tbody>\n",
              "    <tr>\n",
              "      <th>Acquisition Channel 3</th>\n",
              "      <td>117068</td>\n",
              "    </tr>\n",
              "    <tr>\n",
              "      <th>Acquisition Channel 1</th>\n",
              "      <td>4479</td>\n",
              "    </tr>\n",
              "  </tbody>\n",
              "</table>\n",
              "</div><br><label><b>dtype:</b> int64</label>"
            ]
          },
          "metadata": {}
        }
      ]
    },
    {
      "cell_type": "markdown",
      "metadata": {
        "id": "5785164e"
      },
      "source": [
        "## Extract more features from the `signupdate` or `signuptime` columns.\n",
        "\n",
        "### Subtask:\n",
        "Extract more features from the `SignUpDate` or `SignUpTime` columns.\n"
      ]
    },
    {
      "cell_type": "markdown",
      "metadata": {
        "id": "f0dcd7c1"
      },
      "source": [
        "**Reasoning**:\n",
        "Extract year, month, day of week, and hour from the date and time columns and display the head of the dataframe.\n",
        "\n"
      ]
    },
    {
      "cell_type": "code",
      "metadata": {
        "colab": {
          "base_uri": "https://localhost:8080/",
          "height": 452
        },
        "id": "dde2c56e",
        "outputId": "34b5dbbf-8d52-4a67-ab9f-651544cf275d"
      },
      "source": [
        "df['SignUpYear'] = df['SignUpDate'].dt.year\n",
        "df['SignUpMonth'] = df['SignUpDate'].dt.month\n",
        "df['SignUpDayOfWeek'] = df['SignUpDate'].dt.dayofweek\n",
        "df['SignUpHour'] = pd.to_datetime(df['SignUpTime']).dt.hour\n",
        "display(df.head())"
      ],
      "execution_count": 29,
      "outputs": [
        {
          "output_type": "stream",
          "name": "stderr",
          "text": [
            "/tmp/ipython-input-1696572914.py:4: UserWarning: Could not infer format, so each element will be parsed individually, falling back to `dateutil`. To ensure parsing is consistent and as-expected, please specify a format.\n",
            "  df['SignUpHour'] = pd.to_datetime(df['SignUpTime']).dt.hour\n"
          ]
        },
        {
          "output_type": "display_data",
          "data": {
            "text/plain": [
              "   Userkey                 UserBrand    SignUpDateTime          SignUpChannel  \\\n",
              "0   530830  BrightLight South Africa  2011/05/27 13:42  Acquisition Channel 3   \n",
              "1   572050  BrightLight South Africa  2011/08/20 17:27  Acquisition Channel 3   \n",
              "2  1209336  BrightLight South Africa  2012/10/05 08:38  Acquisition Channel 3   \n",
              "3  1187493  BrightLight South Africa  2012/01/01 03:48  Acquisition Channel 3   \n",
              "4  1253100  BrightLight South Africa  2012/07/22 11:25  Acquisition Channel 3   \n",
              "\n",
              "   Unnamed: 4 SignUpDate SignUpTime  SignUpYear  SignUpMonth  SignUpDayOfWeek  \\\n",
              "0         NaN 2011-05-27      13:42        2011            5                4   \n",
              "1         NaN 2011-08-20      17:27        2011            8                5   \n",
              "2         NaN 2012-10-05      08:38        2012           10                4   \n",
              "3         NaN 2012-01-01      03:48        2012            1                6   \n",
              "4         NaN 2012-07-22      11:25        2012            7                6   \n",
              "\n",
              "   SignUpHour  \n",
              "0          13  \n",
              "1          17  \n",
              "2           8  \n",
              "3           3  \n",
              "4          11  "
            ],
            "text/html": [
              "\n",
              "  <div id=\"df-d4e9899c-e8c7-4d5c-9b86-91a3e7bfd4c5\" class=\"colab-df-container\">\n",
              "    <div>\n",
              "<style scoped>\n",
              "    .dataframe tbody tr th:only-of-type {\n",
              "        vertical-align: middle;\n",
              "    }\n",
              "\n",
              "    .dataframe tbody tr th {\n",
              "        vertical-align: top;\n",
              "    }\n",
              "\n",
              "    .dataframe thead th {\n",
              "        text-align: right;\n",
              "    }\n",
              "</style>\n",
              "<table border=\"1\" class=\"dataframe\">\n",
              "  <thead>\n",
              "    <tr style=\"text-align: right;\">\n",
              "      <th></th>\n",
              "      <th>Userkey</th>\n",
              "      <th>UserBrand</th>\n",
              "      <th>SignUpDateTime</th>\n",
              "      <th>SignUpChannel</th>\n",
              "      <th>Unnamed: 4</th>\n",
              "      <th>SignUpDate</th>\n",
              "      <th>SignUpTime</th>\n",
              "      <th>SignUpYear</th>\n",
              "      <th>SignUpMonth</th>\n",
              "      <th>SignUpDayOfWeek</th>\n",
              "      <th>SignUpHour</th>\n",
              "    </tr>\n",
              "  </thead>\n",
              "  <tbody>\n",
              "    <tr>\n",
              "      <th>0</th>\n",
              "      <td>530830</td>\n",
              "      <td>BrightLight South Africa</td>\n",
              "      <td>2011/05/27 13:42</td>\n",
              "      <td>Acquisition Channel 3</td>\n",
              "      <td>NaN</td>\n",
              "      <td>2011-05-27</td>\n",
              "      <td>13:42</td>\n",
              "      <td>2011</td>\n",
              "      <td>5</td>\n",
              "      <td>4</td>\n",
              "      <td>13</td>\n",
              "    </tr>\n",
              "    <tr>\n",
              "      <th>1</th>\n",
              "      <td>572050</td>\n",
              "      <td>BrightLight South Africa</td>\n",
              "      <td>2011/08/20 17:27</td>\n",
              "      <td>Acquisition Channel 3</td>\n",
              "      <td>NaN</td>\n",
              "      <td>2011-08-20</td>\n",
              "      <td>17:27</td>\n",
              "      <td>2011</td>\n",
              "      <td>8</td>\n",
              "      <td>5</td>\n",
              "      <td>17</td>\n",
              "    </tr>\n",
              "    <tr>\n",
              "      <th>2</th>\n",
              "      <td>1209336</td>\n",
              "      <td>BrightLight South Africa</td>\n",
              "      <td>2012/10/05 08:38</td>\n",
              "      <td>Acquisition Channel 3</td>\n",
              "      <td>NaN</td>\n",
              "      <td>2012-10-05</td>\n",
              "      <td>08:38</td>\n",
              "      <td>2012</td>\n",
              "      <td>10</td>\n",
              "      <td>4</td>\n",
              "      <td>8</td>\n",
              "    </tr>\n",
              "    <tr>\n",
              "      <th>3</th>\n",
              "      <td>1187493</td>\n",
              "      <td>BrightLight South Africa</td>\n",
              "      <td>2012/01/01 03:48</td>\n",
              "      <td>Acquisition Channel 3</td>\n",
              "      <td>NaN</td>\n",
              "      <td>2012-01-01</td>\n",
              "      <td>03:48</td>\n",
              "      <td>2012</td>\n",
              "      <td>1</td>\n",
              "      <td>6</td>\n",
              "      <td>3</td>\n",
              "    </tr>\n",
              "    <tr>\n",
              "      <th>4</th>\n",
              "      <td>1253100</td>\n",
              "      <td>BrightLight South Africa</td>\n",
              "      <td>2012/07/22 11:25</td>\n",
              "      <td>Acquisition Channel 3</td>\n",
              "      <td>NaN</td>\n",
              "      <td>2012-07-22</td>\n",
              "      <td>11:25</td>\n",
              "      <td>2012</td>\n",
              "      <td>7</td>\n",
              "      <td>6</td>\n",
              "      <td>11</td>\n",
              "    </tr>\n",
              "  </tbody>\n",
              "</table>\n",
              "</div>\n",
              "    <div class=\"colab-df-buttons\">\n",
              "\n",
              "  <div class=\"colab-df-container\">\n",
              "    <button class=\"colab-df-convert\" onclick=\"convertToInteractive('df-d4e9899c-e8c7-4d5c-9b86-91a3e7bfd4c5')\"\n",
              "            title=\"Convert this dataframe to an interactive table.\"\n",
              "            style=\"display:none;\">\n",
              "\n",
              "  <svg xmlns=\"http://www.w3.org/2000/svg\" height=\"24px\" viewBox=\"0 -960 960 960\">\n",
              "    <path d=\"M120-120v-720h720v720H120Zm60-500h600v-160H180v160Zm220 220h160v-160H400v160Zm0 220h160v-160H400v160ZM180-400h160v-160H180v160Zm440 0h160v-160H620v160ZM180-180h160v-160H180v160Zm440 0h160v-160H620v160Z\"/>\n",
              "  </svg>\n",
              "    </button>\n",
              "\n",
              "  <style>\n",
              "    .colab-df-container {\n",
              "      display:flex;\n",
              "      gap: 12px;\n",
              "    }\n",
              "\n",
              "    .colab-df-convert {\n",
              "      background-color: #E8F0FE;\n",
              "      border: none;\n",
              "      border-radius: 50%;\n",
              "      cursor: pointer;\n",
              "      display: none;\n",
              "      fill: #1967D2;\n",
              "      height: 32px;\n",
              "      padding: 0 0 0 0;\n",
              "      width: 32px;\n",
              "    }\n",
              "\n",
              "    .colab-df-convert:hover {\n",
              "      background-color: #E2EBFA;\n",
              "      box-shadow: 0px 1px 2px rgba(60, 64, 67, 0.3), 0px 1px 3px 1px rgba(60, 64, 67, 0.15);\n",
              "      fill: #174EA6;\n",
              "    }\n",
              "\n",
              "    .colab-df-buttons div {\n",
              "      margin-bottom: 4px;\n",
              "    }\n",
              "\n",
              "    [theme=dark] .colab-df-convert {\n",
              "      background-color: #3B4455;\n",
              "      fill: #D2E3FC;\n",
              "    }\n",
              "\n",
              "    [theme=dark] .colab-df-convert:hover {\n",
              "      background-color: #434B5C;\n",
              "      box-shadow: 0px 1px 3px 1px rgba(0, 0, 0, 0.15);\n",
              "      filter: drop-shadow(0px 1px 2px rgba(0, 0, 0, 0.3));\n",
              "      fill: #FFFFFF;\n",
              "    }\n",
              "  </style>\n",
              "\n",
              "    <script>\n",
              "      const buttonEl =\n",
              "        document.querySelector('#df-d4e9899c-e8c7-4d5c-9b86-91a3e7bfd4c5 button.colab-df-convert');\n",
              "      buttonEl.style.display =\n",
              "        google.colab.kernel.accessAllowed ? 'block' : 'none';\n",
              "\n",
              "      async function convertToInteractive(key) {\n",
              "        const element = document.querySelector('#df-d4e9899c-e8c7-4d5c-9b86-91a3e7bfd4c5');\n",
              "        const dataTable =\n",
              "          await google.colab.kernel.invokeFunction('convertToInteractive',\n",
              "                                                    [key], {});\n",
              "        if (!dataTable) return;\n",
              "\n",
              "        const docLinkHtml = 'Like what you see? Visit the ' +\n",
              "          '<a target=\"_blank\" href=https://colab.research.google.com/notebooks/data_table.ipynb>data table notebook</a>'\n",
              "          + ' to learn more about interactive tables.';\n",
              "        element.innerHTML = '';\n",
              "        dataTable['output_type'] = 'display_data';\n",
              "        await google.colab.output.renderOutput(dataTable, element);\n",
              "        const docLink = document.createElement('div');\n",
              "        docLink.innerHTML = docLinkHtml;\n",
              "        element.appendChild(docLink);\n",
              "      }\n",
              "    </script>\n",
              "  </div>\n",
              "\n",
              "\n",
              "    <div id=\"df-ea4abff1-5bc9-4634-9176-02e4fe2fc146\">\n",
              "      <button class=\"colab-df-quickchart\" onclick=\"quickchart('df-ea4abff1-5bc9-4634-9176-02e4fe2fc146')\"\n",
              "                title=\"Suggest charts\"\n",
              "                style=\"display:none;\">\n",
              "\n",
              "<svg xmlns=\"http://www.w3.org/2000/svg\" height=\"24px\"viewBox=\"0 0 24 24\"\n",
              "     width=\"24px\">\n",
              "    <g>\n",
              "        <path d=\"M19 3H5c-1.1 0-2 .9-2 2v14c0 1.1.9 2 2 2h14c1.1 0 2-.9 2-2V5c0-1.1-.9-2-2-2zM9 17H7v-7h2v7zm4 0h-2V7h2v10zm4 0h-2v-4h2v4z\"/>\n",
              "    </g>\n",
              "</svg>\n",
              "      </button>\n",
              "\n",
              "<style>\n",
              "  .colab-df-quickchart {\n",
              "      --bg-color: #E8F0FE;\n",
              "      --fill-color: #1967D2;\n",
              "      --hover-bg-color: #E2EBFA;\n",
              "      --hover-fill-color: #174EA6;\n",
              "      --disabled-fill-color: #AAA;\n",
              "      --disabled-bg-color: #DDD;\n",
              "  }\n",
              "\n",
              "  [theme=dark] .colab-df-quickchart {\n",
              "      --bg-color: #3B4455;\n",
              "      --fill-color: #D2E3FC;\n",
              "      --hover-bg-color: #434B5C;\n",
              "      --hover-fill-color: #FFFFFF;\n",
              "      --disabled-bg-color: #3B4455;\n",
              "      --disabled-fill-color: #666;\n",
              "  }\n",
              "\n",
              "  .colab-df-quickchart {\n",
              "    background-color: var(--bg-color);\n",
              "    border: none;\n",
              "    border-radius: 50%;\n",
              "    cursor: pointer;\n",
              "    display: none;\n",
              "    fill: var(--fill-color);\n",
              "    height: 32px;\n",
              "    padding: 0;\n",
              "    width: 32px;\n",
              "  }\n",
              "\n",
              "  .colab-df-quickchart:hover {\n",
              "    background-color: var(--hover-bg-color);\n",
              "    box-shadow: 0 1px 2px rgba(60, 64, 67, 0.3), 0 1px 3px 1px rgba(60, 64, 67, 0.15);\n",
              "    fill: var(--button-hover-fill-color);\n",
              "  }\n",
              "\n",
              "  .colab-df-quickchart-complete:disabled,\n",
              "  .colab-df-quickchart-complete:disabled:hover {\n",
              "    background-color: var(--disabled-bg-color);\n",
              "    fill: var(--disabled-fill-color);\n",
              "    box-shadow: none;\n",
              "  }\n",
              "\n",
              "  .colab-df-spinner {\n",
              "    border: 2px solid var(--fill-color);\n",
              "    border-color: transparent;\n",
              "    border-bottom-color: var(--fill-color);\n",
              "    animation:\n",
              "      spin 1s steps(1) infinite;\n",
              "  }\n",
              "\n",
              "  @keyframes spin {\n",
              "    0% {\n",
              "      border-color: transparent;\n",
              "      border-bottom-color: var(--fill-color);\n",
              "      border-left-color: var(--fill-color);\n",
              "    }\n",
              "    20% {\n",
              "      border-color: transparent;\n",
              "      border-left-color: var(--fill-color);\n",
              "      border-top-color: var(--fill-color);\n",
              "    }\n",
              "    30% {\n",
              "      border-color: transparent;\n",
              "      border-left-color: var(--fill-color);\n",
              "      border-top-color: var(--fill-color);\n",
              "      border-right-color: var(--fill-color);\n",
              "    }\n",
              "    40% {\n",
              "      border-color: transparent;\n",
              "      border-right-color: var(--fill-color);\n",
              "      border-top-color: var(--fill-color);\n",
              "    }\n",
              "    60% {\n",
              "      border-color: transparent;\n",
              "      border-right-color: var(--fill-color);\n",
              "    }\n",
              "    80% {\n",
              "      border-color: transparent;\n",
              "      border-right-color: var(--fill-color);\n",
              "      border-bottom-color: var(--fill-color);\n",
              "    }\n",
              "    90% {\n",
              "      border-color: transparent;\n",
              "      border-bottom-color: var(--fill-color);\n",
              "    }\n",
              "  }\n",
              "</style>\n",
              "\n",
              "      <script>\n",
              "        async function quickchart(key) {\n",
              "          const quickchartButtonEl =\n",
              "            document.querySelector('#' + key + ' button');\n",
              "          quickchartButtonEl.disabled = true;  // To prevent multiple clicks.\n",
              "          quickchartButtonEl.classList.add('colab-df-spinner');\n",
              "          try {\n",
              "            const charts = await google.colab.kernel.invokeFunction(\n",
              "                'suggestCharts', [key], {});\n",
              "          } catch (error) {\n",
              "            console.error('Error during call to suggestCharts:', error);\n",
              "          }\n",
              "          quickchartButtonEl.classList.remove('colab-df-spinner');\n",
              "          quickchartButtonEl.classList.add('colab-df-quickchart-complete');\n",
              "        }\n",
              "        (() => {\n",
              "          let quickchartButtonEl =\n",
              "            document.querySelector('#df-ea4abff1-5bc9-4634-9176-02e4fe2fc146 button');\n",
              "          quickchartButtonEl.style.display =\n",
              "            google.colab.kernel.accessAllowed ? 'block' : 'none';\n",
              "        })();\n",
              "      </script>\n",
              "    </div>\n",
              "\n",
              "    </div>\n",
              "  </div>\n"
            ],
            "application/vnd.google.colaboratory.intrinsic+json": {
              "type": "dataframe",
              "summary": "{\n  \"name\": \"display(df\",\n  \"rows\": 5,\n  \"fields\": [\n    {\n      \"column\": \"Userkey\",\n      \"properties\": {\n        \"dtype\": \"number\",\n        \"std\": 365402,\n        \"min\": 530830,\n        \"max\": 1253100,\n        \"num_unique_values\": 5,\n        \"samples\": [\n          572050,\n          1253100,\n          1209336\n        ],\n        \"semantic_type\": \"\",\n        \"description\": \"\"\n      }\n    },\n    {\n      \"column\": \"UserBrand\",\n      \"properties\": {\n        \"dtype\": \"category\",\n        \"num_unique_values\": 1,\n        \"samples\": [\n          \"BrightLight South Africa\"\n        ],\n        \"semantic_type\": \"\",\n        \"description\": \"\"\n      }\n    },\n    {\n      \"column\": \"SignUpDateTime\",\n      \"properties\": {\n        \"dtype\": \"object\",\n        \"num_unique_values\": 5,\n        \"samples\": [\n          \"2011/08/20 17:27\"\n        ],\n        \"semantic_type\": \"\",\n        \"description\": \"\"\n      }\n    },\n    {\n      \"column\": \"SignUpChannel\",\n      \"properties\": {\n        \"dtype\": \"category\",\n        \"num_unique_values\": 1,\n        \"samples\": [\n          \"Acquisition Channel 3\"\n        ],\n        \"semantic_type\": \"\",\n        \"description\": \"\"\n      }\n    },\n    {\n      \"column\": \"Unnamed: 4\",\n      \"properties\": {\n        \"dtype\": \"number\",\n        \"std\": null,\n        \"min\": null,\n        \"max\": null,\n        \"num_unique_values\": 0,\n        \"samples\": [],\n        \"semantic_type\": \"\",\n        \"description\": \"\"\n      }\n    },\n    {\n      \"column\": \"SignUpDate\",\n      \"properties\": {\n        \"dtype\": \"date\",\n        \"min\": \"2011-05-27 00:00:00\",\n        \"max\": \"2012-10-05 00:00:00\",\n        \"num_unique_values\": 5,\n        \"samples\": [],\n        \"semantic_type\": \"\",\n        \"description\": \"\"\n      }\n    },\n    {\n      \"column\": \"SignUpTime\",\n      \"properties\": {\n        \"dtype\": \"object\",\n        \"num_unique_values\": 5,\n        \"samples\": [],\n        \"semantic_type\": \"\",\n        \"description\": \"\"\n      }\n    },\n    {\n      \"column\": \"SignUpYear\",\n      \"properties\": {\n        \"dtype\": \"int32\",\n        \"num_unique_values\": 2,\n        \"samples\": [],\n        \"semantic_type\": \"\",\n        \"description\": \"\"\n      }\n    },\n    {\n      \"column\": \"SignUpMonth\",\n      \"properties\": {\n        \"dtype\": \"int32\",\n        \"num_unique_values\": 5,\n        \"samples\": [],\n        \"semantic_type\": \"\",\n        \"description\": \"\"\n      }\n    },\n    {\n      \"column\": \"SignUpDayOfWeek\",\n      \"properties\": {\n        \"dtype\": \"int32\",\n        \"num_unique_values\": 3,\n        \"samples\": [],\n        \"semantic_type\": \"\",\n        \"description\": \"\"\n      }\n    },\n    {\n      \"column\": \"SignUpHour\",\n      \"properties\": {\n        \"dtype\": \"int32\",\n        \"num_unique_values\": 5,\n        \"samples\": [],\n        \"semantic_type\": \"\",\n        \"description\": \"\"\n      }\n    }\n  ]\n}"
            }
          },
          "metadata": {}
        }
      ]
    },
    {
      "cell_type": "markdown",
      "metadata": {
        "id": "e6027356"
      },
      "source": [
        "## Check for missing values in the dataframe.\n",
        "\n",
        "### Subtask:\n",
        "Check for missing values in the dataframe.\n"
      ]
    },
    {
      "cell_type": "markdown",
      "metadata": {
        "id": "c027badc"
      },
      "source": [
        "**Reasoning**:\n",
        "Calculate and display the sum of missing values for each column in the DataFrame to check for missing values.\n",
        "\n"
      ]
    },
    {
      "cell_type": "code",
      "metadata": {
        "colab": {
          "base_uri": "https://localhost:8080/",
          "height": 429
        },
        "id": "557b1a49",
        "outputId": "787062c0-047a-4cb4-8238-f5631262060b"
      },
      "source": [
        "missing_values = df.isnull().sum()\n",
        "display(missing_values)"
      ],
      "execution_count": 30,
      "outputs": [
        {
          "output_type": "display_data",
          "data": {
            "text/plain": [
              "Userkey                 0\n",
              "UserBrand               0\n",
              "SignUpDateTime          0\n",
              "SignUpChannel           0\n",
              "Unnamed: 4         121547\n",
              "SignUpDate              0\n",
              "SignUpTime              0\n",
              "SignUpYear              0\n",
              "SignUpMonth             0\n",
              "SignUpDayOfWeek         0\n",
              "SignUpHour              0\n",
              "dtype: int64"
            ],
            "text/html": [
              "<div>\n",
              "<style scoped>\n",
              "    .dataframe tbody tr th:only-of-type {\n",
              "        vertical-align: middle;\n",
              "    }\n",
              "\n",
              "    .dataframe tbody tr th {\n",
              "        vertical-align: top;\n",
              "    }\n",
              "\n",
              "    .dataframe thead th {\n",
              "        text-align: right;\n",
              "    }\n",
              "</style>\n",
              "<table border=\"1\" class=\"dataframe\">\n",
              "  <thead>\n",
              "    <tr style=\"text-align: right;\">\n",
              "      <th></th>\n",
              "      <th>0</th>\n",
              "    </tr>\n",
              "  </thead>\n",
              "  <tbody>\n",
              "    <tr>\n",
              "      <th>Userkey</th>\n",
              "      <td>0</td>\n",
              "    </tr>\n",
              "    <tr>\n",
              "      <th>UserBrand</th>\n",
              "      <td>0</td>\n",
              "    </tr>\n",
              "    <tr>\n",
              "      <th>SignUpDateTime</th>\n",
              "      <td>0</td>\n",
              "    </tr>\n",
              "    <tr>\n",
              "      <th>SignUpChannel</th>\n",
              "      <td>0</td>\n",
              "    </tr>\n",
              "    <tr>\n",
              "      <th>Unnamed: 4</th>\n",
              "      <td>121547</td>\n",
              "    </tr>\n",
              "    <tr>\n",
              "      <th>SignUpDate</th>\n",
              "      <td>0</td>\n",
              "    </tr>\n",
              "    <tr>\n",
              "      <th>SignUpTime</th>\n",
              "      <td>0</td>\n",
              "    </tr>\n",
              "    <tr>\n",
              "      <th>SignUpYear</th>\n",
              "      <td>0</td>\n",
              "    </tr>\n",
              "    <tr>\n",
              "      <th>SignUpMonth</th>\n",
              "      <td>0</td>\n",
              "    </tr>\n",
              "    <tr>\n",
              "      <th>SignUpDayOfWeek</th>\n",
              "      <td>0</td>\n",
              "    </tr>\n",
              "    <tr>\n",
              "      <th>SignUpHour</th>\n",
              "      <td>0</td>\n",
              "    </tr>\n",
              "  </tbody>\n",
              "</table>\n",
              "</div><br><label><b>dtype:</b> int64</label>"
            ]
          },
          "metadata": {}
        }
      ]
    },
    {
      "cell_type": "markdown",
      "metadata": {
        "id": "76cfac39"
      },
      "source": [
        "## Summary:\n",
        "\n",
        "### Data Analysis Key Findings\n",
        "\n",
        "*   The `SignUpDate` column was successfully converted to datetime objects.\n",
        "*   The majority of users are from 'BrightLight South Africa' (121369), compared to 'BrightLight Botswana' (178).\n",
        "*   'Acquisition Channel 3' is the dominant signup channel (117068 users), followed by 'Acquisition Channel 1' (4479 users).\n",
        "*   New features (year, month, day of week, and hour) were successfully extracted from the `SignUpDate` and `SignUpTime` columns.\n",
        "*   The 'Unnamed: 4' column contains a large number of missing values (121547).\n",
        "\n",
        "### Insights or Next Steps\n",
        "\n",
        "*   Investigate the 'Unnamed: 4' column to understand its purpose and decide on a strategy for handling the missing values (e.g., dropping or imputing).\n",
        "*   Further analyze user behavior based on the extracted date and time features, `UserBrand`, and `SignUpChannel` to identify potential trends or patterns in user acquisition and activity.\n"
      ]
    },
    {
      "cell_type": "markdown",
      "metadata": {
        "id": "6e96bf78"
      },
      "source": [
        "## Convert the `signupdate` column to datetime objects.\n",
        "\n",
        "### Subtask:\n",
        "Convert the `SignUpDate` column to datetime objects."
      ]
    },
    {
      "cell_type": "markdown",
      "metadata": {
        "id": "065ed070"
      },
      "source": [
        "**Reasoning**:\n",
        "Convert the `SignUpDate` column to datetime objects."
      ]
    },
    {
      "cell_type": "code",
      "metadata": {
        "colab": {
          "base_uri": "https://localhost:8080/",
          "height": 347
        },
        "id": "3b53b3e2",
        "outputId": "908df970-62dc-4256-93d2-08e8020eb8ca"
      },
      "source": [
        "df['SignUpDate'] = pd.to_datetime(df['SignUpDate'])\n",
        "display(df.info())"
      ],
      "execution_count": 31,
      "outputs": [
        {
          "output_type": "stream",
          "name": "stdout",
          "text": [
            "<class 'pandas.core.frame.DataFrame'>\n",
            "RangeIndex: 121547 entries, 0 to 121546\n",
            "Data columns (total 11 columns):\n",
            " #   Column           Non-Null Count   Dtype         \n",
            "---  ------           --------------   -----         \n",
            " 0   Userkey          121547 non-null  int64         \n",
            " 1   UserBrand        121547 non-null  object        \n",
            " 2   SignUpDateTime   121547 non-null  object        \n",
            " 3   SignUpChannel    121547 non-null  object        \n",
            " 4   Unnamed: 4       0 non-null       float64       \n",
            " 5   SignUpDate       121547 non-null  datetime64[ns]\n",
            " 6   SignUpTime       121547 non-null  object        \n",
            " 7   SignUpYear       121547 non-null  int32         \n",
            " 8   SignUpMonth      121547 non-null  int32         \n",
            " 9   SignUpDayOfWeek  121547 non-null  int32         \n",
            " 10  SignUpHour       121547 non-null  int32         \n",
            "dtypes: datetime64[ns](1), float64(1), int32(4), int64(1), object(4)\n",
            "memory usage: 8.3+ MB\n"
          ]
        },
        {
          "output_type": "display_data",
          "data": {
            "text/plain": [
              "None"
            ]
          },
          "metadata": {}
        }
      ]
    },
    {
      "cell_type": "markdown",
      "metadata": {
        "id": "29b9f96d"
      },
      "source": [
        "## Analyze the distribution of users across different `userbrand` and `signupchannel`.\n",
        "\n",
        "### Subtask:\n",
        "Analyze the distribution of users across different `UserBrand` and `SignUpChannel`."
      ]
    },
    {
      "cell_type": "markdown",
      "metadata": {
        "id": "45b41234"
      },
      "source": [
        "**Reasoning**:\n",
        "Calculate and display the value counts for `UserBrand` and `SignUpChannel` to analyze user distribution across these categories."
      ]
    },
    {
      "cell_type": "code",
      "metadata": {
        "colab": {
          "base_uri": "https://localhost:8080/",
          "height": 391
        },
        "id": "cc74674f",
        "outputId": "4b9cb8b4-83e0-4c86-b0fa-4e3dfa9b9c64"
      },
      "source": [
        "user_brand_distribution = df['UserBrand'].value_counts()\n",
        "signup_channel_distribution = df['SignUpChannel'].value_counts()\n",
        "print(\"Distribution of users across UserBrand:\")\n",
        "display(user_brand_distribution)\n",
        "print(\"\\nDistribution of users across SignUpChannel:\")\n",
        "display(signup_channel_distribution)"
      ],
      "execution_count": 32,
      "outputs": [
        {
          "output_type": "stream",
          "name": "stdout",
          "text": [
            "Distribution of users across UserBrand:\n"
          ]
        },
        {
          "output_type": "display_data",
          "data": {
            "text/plain": [
              "UserBrand\n",
              "BrightLight South Africa    121369\n",
              "BrightLight Botswana           178\n",
              "Name: count, dtype: int64"
            ],
            "text/html": [
              "<div>\n",
              "<style scoped>\n",
              "    .dataframe tbody tr th:only-of-type {\n",
              "        vertical-align: middle;\n",
              "    }\n",
              "\n",
              "    .dataframe tbody tr th {\n",
              "        vertical-align: top;\n",
              "    }\n",
              "\n",
              "    .dataframe thead th {\n",
              "        text-align: right;\n",
              "    }\n",
              "</style>\n",
              "<table border=\"1\" class=\"dataframe\">\n",
              "  <thead>\n",
              "    <tr style=\"text-align: right;\">\n",
              "      <th></th>\n",
              "      <th>count</th>\n",
              "    </tr>\n",
              "    <tr>\n",
              "      <th>UserBrand</th>\n",
              "      <th></th>\n",
              "    </tr>\n",
              "  </thead>\n",
              "  <tbody>\n",
              "    <tr>\n",
              "      <th>BrightLight South Africa</th>\n",
              "      <td>121369</td>\n",
              "    </tr>\n",
              "    <tr>\n",
              "      <th>BrightLight Botswana</th>\n",
              "      <td>178</td>\n",
              "    </tr>\n",
              "  </tbody>\n",
              "</table>\n",
              "</div><br><label><b>dtype:</b> int64</label>"
            ]
          },
          "metadata": {}
        },
        {
          "output_type": "stream",
          "name": "stdout",
          "text": [
            "\n",
            "Distribution of users across SignUpChannel:\n"
          ]
        },
        {
          "output_type": "display_data",
          "data": {
            "text/plain": [
              "SignUpChannel\n",
              "Acquisition Channel 3    117068\n",
              "Acquisition Channel 1      4479\n",
              "Name: count, dtype: int64"
            ],
            "text/html": [
              "<div>\n",
              "<style scoped>\n",
              "    .dataframe tbody tr th:only-of-type {\n",
              "        vertical-align: middle;\n",
              "    }\n",
              "\n",
              "    .dataframe tbody tr th {\n",
              "        vertical-align: top;\n",
              "    }\n",
              "\n",
              "    .dataframe thead th {\n",
              "        text-align: right;\n",
              "    }\n",
              "</style>\n",
              "<table border=\"1\" class=\"dataframe\">\n",
              "  <thead>\n",
              "    <tr style=\"text-align: right;\">\n",
              "      <th></th>\n",
              "      <th>count</th>\n",
              "    </tr>\n",
              "    <tr>\n",
              "      <th>SignUpChannel</th>\n",
              "      <th></th>\n",
              "    </tr>\n",
              "  </thead>\n",
              "  <tbody>\n",
              "    <tr>\n",
              "      <th>Acquisition Channel 3</th>\n",
              "      <td>117068</td>\n",
              "    </tr>\n",
              "    <tr>\n",
              "      <th>Acquisition Channel 1</th>\n",
              "      <td>4479</td>\n",
              "    </tr>\n",
              "  </tbody>\n",
              "</table>\n",
              "</div><br><label><b>dtype:</b> int64</label>"
            ]
          },
          "metadata": {}
        }
      ]
    },
    {
      "cell_type": "markdown",
      "metadata": {
        "id": "43a0c318"
      },
      "source": [
        "## Extract more features from the `signupdate` or `signuptime` columns.\n",
        "\n",
        "### Subtask:\n",
        "Extract more features from the `SignUpDate` or `SignUpTime` columns."
      ]
    },
    {
      "cell_type": "markdown",
      "metadata": {
        "id": "b87a3699"
      },
      "source": [
        "**Reasoning**:\n",
        "Extract year, month, day of week, and hour from the date and time columns and display the head of the dataframe."
      ]
    },
    {
      "cell_type": "code",
      "metadata": {
        "colab": {
          "base_uri": "https://localhost:8080/",
          "height": 452
        },
        "id": "f6fd8451",
        "outputId": "f875ce65-b46c-467c-d8fb-3c5fc07484f6"
      },
      "source": [
        "df['SignUpYear'] = df['SignUpDate'].dt.year\n",
        "df['SignUpMonth'] = df['SignUpDate'].dt.month\n",
        "df['SignUpDayOfWeek'] = df['SignUpDate'].dt.dayofweek\n",
        "df['SignUpHour'] = pd.to_datetime(df['SignUpTime']).dt.hour\n",
        "display(df.head())"
      ],
      "execution_count": 33,
      "outputs": [
        {
          "output_type": "stream",
          "name": "stderr",
          "text": [
            "/tmp/ipython-input-1696572914.py:4: UserWarning: Could not infer format, so each element will be parsed individually, falling back to `dateutil`. To ensure parsing is consistent and as-expected, please specify a format.\n",
            "  df['SignUpHour'] = pd.to_datetime(df['SignUpTime']).dt.hour\n"
          ]
        },
        {
          "output_type": "display_data",
          "data": {
            "text/plain": [
              "   Userkey                 UserBrand    SignUpDateTime          SignUpChannel  \\\n",
              "0   530830  BrightLight South Africa  2011/05/27 13:42  Acquisition Channel 3   \n",
              "1   572050  BrightLight South Africa  2011/08/20 17:27  Acquisition Channel 3   \n",
              "2  1209336  BrightLight South Africa  2012/10/05 08:38  Acquisition Channel 3   \n",
              "3  1187493  BrightLight South Africa  2012/01/01 03:48  Acquisition Channel 3   \n",
              "4  1253100  BrightLight South Africa  2012/07/22 11:25  Acquisition Channel 3   \n",
              "\n",
              "   Unnamed: 4 SignUpDate SignUpTime  SignUpYear  SignUpMonth  SignUpDayOfWeek  \\\n",
              "0         NaN 2011-05-27      13:42        2011            5                4   \n",
              "1         NaN 2011-08-20      17:27        2011            8                5   \n",
              "2         NaN 2012-10-05      08:38        2012           10                4   \n",
              "3         NaN 2012-01-01      03:48        2012            1                6   \n",
              "4         NaN 2012-07-22      11:25        2012            7                6   \n",
              "\n",
              "   SignUpHour  \n",
              "0          13  \n",
              "1          17  \n",
              "2           8  \n",
              "3           3  \n",
              "4          11  "
            ],
            "text/html": [
              "\n",
              "  <div id=\"df-08929688-0443-4ab2-82ac-d42e39ce32e4\" class=\"colab-df-container\">\n",
              "    <div>\n",
              "<style scoped>\n",
              "    .dataframe tbody tr th:only-of-type {\n",
              "        vertical-align: middle;\n",
              "    }\n",
              "\n",
              "    .dataframe tbody tr th {\n",
              "        vertical-align: top;\n",
              "    }\n",
              "\n",
              "    .dataframe thead th {\n",
              "        text-align: right;\n",
              "    }\n",
              "</style>\n",
              "<table border=\"1\" class=\"dataframe\">\n",
              "  <thead>\n",
              "    <tr style=\"text-align: right;\">\n",
              "      <th></th>\n",
              "      <th>Userkey</th>\n",
              "      <th>UserBrand</th>\n",
              "      <th>SignUpDateTime</th>\n",
              "      <th>SignUpChannel</th>\n",
              "      <th>Unnamed: 4</th>\n",
              "      <th>SignUpDate</th>\n",
              "      <th>SignUpTime</th>\n",
              "      <th>SignUpYear</th>\n",
              "      <th>SignUpMonth</th>\n",
              "      <th>SignUpDayOfWeek</th>\n",
              "      <th>SignUpHour</th>\n",
              "    </tr>\n",
              "  </thead>\n",
              "  <tbody>\n",
              "    <tr>\n",
              "      <th>0</th>\n",
              "      <td>530830</td>\n",
              "      <td>BrightLight South Africa</td>\n",
              "      <td>2011/05/27 13:42</td>\n",
              "      <td>Acquisition Channel 3</td>\n",
              "      <td>NaN</td>\n",
              "      <td>2011-05-27</td>\n",
              "      <td>13:42</td>\n",
              "      <td>2011</td>\n",
              "      <td>5</td>\n",
              "      <td>4</td>\n",
              "      <td>13</td>\n",
              "    </tr>\n",
              "    <tr>\n",
              "      <th>1</th>\n",
              "      <td>572050</td>\n",
              "      <td>BrightLight South Africa</td>\n",
              "      <td>2011/08/20 17:27</td>\n",
              "      <td>Acquisition Channel 3</td>\n",
              "      <td>NaN</td>\n",
              "      <td>2011-08-20</td>\n",
              "      <td>17:27</td>\n",
              "      <td>2011</td>\n",
              "      <td>8</td>\n",
              "      <td>5</td>\n",
              "      <td>17</td>\n",
              "    </tr>\n",
              "    <tr>\n",
              "      <th>2</th>\n",
              "      <td>1209336</td>\n",
              "      <td>BrightLight South Africa</td>\n",
              "      <td>2012/10/05 08:38</td>\n",
              "      <td>Acquisition Channel 3</td>\n",
              "      <td>NaN</td>\n",
              "      <td>2012-10-05</td>\n",
              "      <td>08:38</td>\n",
              "      <td>2012</td>\n",
              "      <td>10</td>\n",
              "      <td>4</td>\n",
              "      <td>8</td>\n",
              "    </tr>\n",
              "    <tr>\n",
              "      <th>3</th>\n",
              "      <td>1187493</td>\n",
              "      <td>BrightLight South Africa</td>\n",
              "      <td>2012/01/01 03:48</td>\n",
              "      <td>Acquisition Channel 3</td>\n",
              "      <td>NaN</td>\n",
              "      <td>2012-01-01</td>\n",
              "      <td>03:48</td>\n",
              "      <td>2012</td>\n",
              "      <td>1</td>\n",
              "      <td>6</td>\n",
              "      <td>3</td>\n",
              "    </tr>\n",
              "    <tr>\n",
              "      <th>4</th>\n",
              "      <td>1253100</td>\n",
              "      <td>BrightLight South Africa</td>\n",
              "      <td>2012/07/22 11:25</td>\n",
              "      <td>Acquisition Channel 3</td>\n",
              "      <td>NaN</td>\n",
              "      <td>2012-07-22</td>\n",
              "      <td>11:25</td>\n",
              "      <td>2012</td>\n",
              "      <td>7</td>\n",
              "      <td>6</td>\n",
              "      <td>11</td>\n",
              "    </tr>\n",
              "  </tbody>\n",
              "</table>\n",
              "</div>\n",
              "    <div class=\"colab-df-buttons\">\n",
              "\n",
              "  <div class=\"colab-df-container\">\n",
              "    <button class=\"colab-df-convert\" onclick=\"convertToInteractive('df-08929688-0443-4ab2-82ac-d42e39ce32e4')\"\n",
              "            title=\"Convert this dataframe to an interactive table.\"\n",
              "            style=\"display:none;\">\n",
              "\n",
              "  <svg xmlns=\"http://www.w3.org/2000/svg\" height=\"24px\" viewBox=\"0 -960 960 960\">\n",
              "    <path d=\"M120-120v-720h720v720H120Zm60-500h600v-160H180v160Zm220 220h160v-160H400v160Zm0 220h160v-160H400v160ZM180-400h160v-160H180v160Zm440 0h160v-160H620v160ZM180-180h160v-160H180v160Zm440 0h160v-160H620v160Z\"/>\n",
              "  </svg>\n",
              "    </button>\n",
              "\n",
              "  <style>\n",
              "    .colab-df-container {\n",
              "      display:flex;\n",
              "      gap: 12px;\n",
              "    }\n",
              "\n",
              "    .colab-df-convert {\n",
              "      background-color: #E8F0FE;\n",
              "      border: none;\n",
              "      border-radius: 50%;\n",
              "      cursor: pointer;\n",
              "      display: none;\n",
              "      fill: #1967D2;\n",
              "      height: 32px;\n",
              "      padding: 0 0 0 0;\n",
              "      width: 32px;\n",
              "    }\n",
              "\n",
              "    .colab-df-convert:hover {\n",
              "      background-color: #E2EBFA;\n",
              "      box-shadow: 0px 1px 2px rgba(60, 64, 67, 0.3), 0px 1px 3px 1px rgba(60, 64, 67, 0.15);\n",
              "      fill: #174EA6;\n",
              "    }\n",
              "\n",
              "    .colab-df-buttons div {\n",
              "      margin-bottom: 4px;\n",
              "    }\n",
              "\n",
              "    [theme=dark] .colab-df-convert {\n",
              "      background-color: #3B4455;\n",
              "      fill: #D2E3FC;\n",
              "    }\n",
              "\n",
              "    [theme=dark] .colab-df-convert:hover {\n",
              "      background-color: #434B5C;\n",
              "      box-shadow: 0px 1px 3px 1px rgba(0, 0, 0, 0.15);\n",
              "      filter: drop-shadow(0px 1px 2px rgba(0, 0, 0, 0.3));\n",
              "      fill: #FFFFFF;\n",
              "    }\n",
              "  </style>\n",
              "\n",
              "    <script>\n",
              "      const buttonEl =\n",
              "        document.querySelector('#df-08929688-0443-4ab2-82ac-d42e39ce32e4 button.colab-df-convert');\n",
              "      buttonEl.style.display =\n",
              "        google.colab.kernel.accessAllowed ? 'block' : 'none';\n",
              "\n",
              "      async function convertToInteractive(key) {\n",
              "        const element = document.querySelector('#df-08929688-0443-4ab2-82ac-d42e39ce32e4');\n",
              "        const dataTable =\n",
              "          await google.colab.kernel.invokeFunction('convertToInteractive',\n",
              "                                                    [key], {});\n",
              "        if (!dataTable) return;\n",
              "\n",
              "        const docLinkHtml = 'Like what you see? Visit the ' +\n",
              "          '<a target=\"_blank\" href=https://colab.research.google.com/notebooks/data_table.ipynb>data table notebook</a>'\n",
              "          + ' to learn more about interactive tables.';\n",
              "        element.innerHTML = '';\n",
              "        dataTable['output_type'] = 'display_data';\n",
              "        await google.colab.output.renderOutput(dataTable, element);\n",
              "        const docLink = document.createElement('div');\n",
              "        docLink.innerHTML = docLinkHtml;\n",
              "        element.appendChild(docLink);\n",
              "      }\n",
              "    </script>\n",
              "  </div>\n",
              "\n",
              "\n",
              "    <div id=\"df-692c547b-c727-446b-8d72-5159088d1c70\">\n",
              "      <button class=\"colab-df-quickchart\" onclick=\"quickchart('df-692c547b-c727-446b-8d72-5159088d1c70')\"\n",
              "                title=\"Suggest charts\"\n",
              "                style=\"display:none;\">\n",
              "\n",
              "<svg xmlns=\"http://www.w3.org/2000/svg\" height=\"24px\"viewBox=\"0 0 24 24\"\n",
              "     width=\"24px\">\n",
              "    <g>\n",
              "        <path d=\"M19 3H5c-1.1 0-2 .9-2 2v14c0 1.1.9 2 2 2h14c1.1 0 2-.9 2-2V5c0-1.1-.9-2-2-2zM9 17H7v-7h2v7zm4 0h-2V7h2v10zm4 0h-2v-4h2v4z\"/>\n",
              "    </g>\n",
              "</svg>\n",
              "      </button>\n",
              "\n",
              "<style>\n",
              "  .colab-df-quickchart {\n",
              "      --bg-color: #E8F0FE;\n",
              "      --fill-color: #1967D2;\n",
              "      --hover-bg-color: #E2EBFA;\n",
              "      --hover-fill-color: #174EA6;\n",
              "      --disabled-fill-color: #AAA;\n",
              "      --disabled-bg-color: #DDD;\n",
              "  }\n",
              "\n",
              "  [theme=dark] .colab-df-quickchart {\n",
              "      --bg-color: #3B4455;\n",
              "      --fill-color: #D2E3FC;\n",
              "      --hover-bg-color: #434B5C;\n",
              "      --hover-fill-color: #FFFFFF;\n",
              "      --disabled-bg-color: #3B4455;\n",
              "      --disabled-fill-color: #666;\n",
              "  }\n",
              "\n",
              "  .colab-df-quickchart {\n",
              "    background-color: var(--bg-color);\n",
              "    border: none;\n",
              "    border-radius: 50%;\n",
              "    cursor: pointer;\n",
              "    display: none;\n",
              "    fill: var(--fill-color);\n",
              "    height: 32px;\n",
              "    padding: 0;\n",
              "    width: 32px;\n",
              "  }\n",
              "\n",
              "  .colab-df-quickchart:hover {\n",
              "    background-color: var(--hover-bg-color);\n",
              "    box-shadow: 0 1px 2px rgba(60, 64, 67, 0.3), 0 1px 3px 1px rgba(60, 64, 67, 0.15);\n",
              "    fill: var(--button-hover-fill-color);\n",
              "  }\n",
              "\n",
              "  .colab-df-quickchart-complete:disabled,\n",
              "  .colab-df-quickchart-complete:disabled:hover {\n",
              "    background-color: var(--disabled-bg-color);\n",
              "    fill: var(--disabled-fill-color);\n",
              "    box-shadow: none;\n",
              "  }\n",
              "\n",
              "  .colab-df-spinner {\n",
              "    border: 2px solid var(--fill-color);\n",
              "    border-color: transparent;\n",
              "    border-bottom-color: var(--fill-color);\n",
              "    animation:\n",
              "      spin 1s steps(1) infinite;\n",
              "  }\n",
              "\n",
              "  @keyframes spin {\n",
              "    0% {\n",
              "      border-color: transparent;\n",
              "      border-bottom-color: var(--fill-color);\n",
              "      border-left-color: var(--fill-color);\n",
              "    }\n",
              "    20% {\n",
              "      border-color: transparent;\n",
              "      border-left-color: var(--fill-color);\n",
              "      border-top-color: var(--fill-color);\n",
              "    }\n",
              "    30% {\n",
              "      border-color: transparent;\n",
              "      border-left-color: var(--fill-color);\n",
              "      border-top-color: var(--fill-color);\n",
              "      border-right-color: var(--fill-color);\n",
              "    }\n",
              "    40% {\n",
              "      border-color: transparent;\n",
              "      border-right-color: var(--fill-color);\n",
              "      border-top-color: var(--fill-color);\n",
              "    }\n",
              "    60% {\n",
              "      border-color: transparent;\n",
              "      border-right-color: var(--fill-color);\n",
              "    }\n",
              "    80% {\n",
              "      border-color: transparent;\n",
              "      border-right-color: var(--fill-color);\n",
              "      border-bottom-color: var(--fill-color);\n",
              "    }\n",
              "    90% {\n",
              "      border-color: transparent;\n",
              "      border-bottom-color: var(--fill-color);\n",
              "    }\n",
              "  }\n",
              "</style>\n",
              "\n",
              "      <script>\n",
              "        async function quickchart(key) {\n",
              "          const quickchartButtonEl =\n",
              "            document.querySelector('#' + key + ' button');\n",
              "          quickchartButtonEl.disabled = true;  // To prevent multiple clicks.\n",
              "          quickchartButtonEl.classList.add('colab-df-spinner');\n",
              "          try {\n",
              "            const charts = await google.colab.kernel.invokeFunction(\n",
              "                'suggestCharts', [key], {});\n",
              "          } catch (error) {\n",
              "            console.error('Error during call to suggestCharts:', error);\n",
              "          }\n",
              "          quickchartButtonEl.classList.remove('colab-df-spinner');\n",
              "          quickchartButtonEl.classList.add('colab-df-quickchart-complete');\n",
              "        }\n",
              "        (() => {\n",
              "          let quickchartButtonEl =\n",
              "            document.querySelector('#df-692c547b-c727-446b-8d72-5159088d1c70 button');\n",
              "          quickchartButtonEl.style.display =\n",
              "            google.colab.kernel.accessAllowed ? 'block' : 'none';\n",
              "        })();\n",
              "      </script>\n",
              "    </div>\n",
              "\n",
              "    </div>\n",
              "  </div>\n"
            ],
            "application/vnd.google.colaboratory.intrinsic+json": {
              "type": "dataframe",
              "summary": "{\n  \"name\": \"display(df\",\n  \"rows\": 5,\n  \"fields\": [\n    {\n      \"column\": \"Userkey\",\n      \"properties\": {\n        \"dtype\": \"number\",\n        \"std\": 365402,\n        \"min\": 530830,\n        \"max\": 1253100,\n        \"num_unique_values\": 5,\n        \"samples\": [\n          572050,\n          1253100,\n          1209336\n        ],\n        \"semantic_type\": \"\",\n        \"description\": \"\"\n      }\n    },\n    {\n      \"column\": \"UserBrand\",\n      \"properties\": {\n        \"dtype\": \"category\",\n        \"num_unique_values\": 1,\n        \"samples\": [\n          \"BrightLight South Africa\"\n        ],\n        \"semantic_type\": \"\",\n        \"description\": \"\"\n      }\n    },\n    {\n      \"column\": \"SignUpDateTime\",\n      \"properties\": {\n        \"dtype\": \"object\",\n        \"num_unique_values\": 5,\n        \"samples\": [\n          \"2011/08/20 17:27\"\n        ],\n        \"semantic_type\": \"\",\n        \"description\": \"\"\n      }\n    },\n    {\n      \"column\": \"SignUpChannel\",\n      \"properties\": {\n        \"dtype\": \"category\",\n        \"num_unique_values\": 1,\n        \"samples\": [\n          \"Acquisition Channel 3\"\n        ],\n        \"semantic_type\": \"\",\n        \"description\": \"\"\n      }\n    },\n    {\n      \"column\": \"Unnamed: 4\",\n      \"properties\": {\n        \"dtype\": \"number\",\n        \"std\": null,\n        \"min\": null,\n        \"max\": null,\n        \"num_unique_values\": 0,\n        \"samples\": [],\n        \"semantic_type\": \"\",\n        \"description\": \"\"\n      }\n    },\n    {\n      \"column\": \"SignUpDate\",\n      \"properties\": {\n        \"dtype\": \"date\",\n        \"min\": \"2011-05-27 00:00:00\",\n        \"max\": \"2012-10-05 00:00:00\",\n        \"num_unique_values\": 5,\n        \"samples\": [],\n        \"semantic_type\": \"\",\n        \"description\": \"\"\n      }\n    },\n    {\n      \"column\": \"SignUpTime\",\n      \"properties\": {\n        \"dtype\": \"object\",\n        \"num_unique_values\": 5,\n        \"samples\": [],\n        \"semantic_type\": \"\",\n        \"description\": \"\"\n      }\n    },\n    {\n      \"column\": \"SignUpYear\",\n      \"properties\": {\n        \"dtype\": \"int32\",\n        \"num_unique_values\": 2,\n        \"samples\": [],\n        \"semantic_type\": \"\",\n        \"description\": \"\"\n      }\n    },\n    {\n      \"column\": \"SignUpMonth\",\n      \"properties\": {\n        \"dtype\": \"int32\",\n        \"num_unique_values\": 5,\n        \"samples\": [],\n        \"semantic_type\": \"\",\n        \"description\": \"\"\n      }\n    },\n    {\n      \"column\": \"SignUpDayOfWeek\",\n      \"properties\": {\n        \"dtype\": \"int32\",\n        \"num_unique_values\": 3,\n        \"samples\": [],\n        \"semantic_type\": \"\",\n        \"description\": \"\"\n      }\n    },\n    {\n      \"column\": \"SignUpHour\",\n      \"properties\": {\n        \"dtype\": \"int32\",\n        \"num_unique_values\": 5,\n        \"samples\": [],\n        \"semantic_type\": \"\",\n        \"description\": \"\"\n      }\n    }\n  ]\n}"
            }
          },
          "metadata": {}
        }
      ]
    },
    {
      "cell_type": "code",
      "source": [
        "#analyze by time by showing the top 5 most popular signuphour"
      ],
      "metadata": {
        "id": "7fhfn1OjQsz6"
      },
      "execution_count": 53,
      "outputs": []
    },
    {
      "cell_type": "code",
      "source": [
        "df['SignUpHour'].value_counts().head(5).plot(kind='bar')"
      ],
      "metadata": {
        "colab": {
          "base_uri": "https://localhost:8080/",
          "height": 470
        },
        "id": "hUtKJeYRQ_jq",
        "outputId": "7e142ce6-76ea-4d62-b27a-f8652e902428"
      },
      "execution_count": 55,
      "outputs": [
        {
          "output_type": "execute_result",
          "data": {
            "text/plain": [
              "<Axes: xlabel='SignUpHour'>"
            ]
          },
          "metadata": {},
          "execution_count": 55
        },
        {
          "output_type": "display_data",
          "data": {
            "text/plain": [
              "<Figure size 640x480 with 1 Axes>"
            ],
            "image/png": "[encoded data removed]"
          },
          "metadata": {}
        }
      ]
    },
    {
      "cell_type": "code",
      "source": [
        "# analyze by sign up date show the top 5 sign up dates"
      ],
      "metadata": {
        "id": "qM7oDNyTRagh"
      },
      "execution_count": 56,
      "outputs": []
    },
    {
      "cell_type": "code",
      "source": [
        "df['SignUpDate'].value_counts().head(5).plot(kind='bar')"
      ],
      "metadata": {
        "colab": {
          "base_uri": "https://localhost:8080/",
          "height": 599
        },
        "id": "lYfdALSPRo5y",
        "outputId": "90caf47c-a113-48a4-b73c-1ee7cac510c4"
      },
      "execution_count": 58,
      "outputs": [
        {
          "output_type": "execute_result",
          "data": {
            "text/plain": [
              "<Axes: xlabel='SignUpDate'>"
            ]
          },
          "metadata": {},
          "execution_count": 58
        },
        {
          "output_type": "display_data",
          "data": {
            "text/plain": [
              "<Figure size 640x480 with 1 Axes>"
            ],
            "image/png": "[encoded data removed]"
          },
          "metadata": {}
        }
      ]
    },
    {
      "cell_type": "markdown",
      "metadata": {
        "id": "a70e031a"
      },
      "source": [
        "## Check for missing values in the dataframe.\n",
        "\n",
        "### Subtask:\n",
        "Check for missing values in the dataframe."
      ]
    },
    {
      "cell_type": "markdown",
      "metadata": {
        "id": "e6daf383"
      },
      "source": [
        "**Reasoning**:\n",
        "Calculate and display the sum of missing values for each column in the DataFrame to check for missing values."
      ]
    },
    {
      "cell_type": "code",
      "metadata": {
        "colab": {
          "base_uri": "https://localhost:8080/",
          "height": 429
        },
        "id": "e0d7bdd4",
        "outputId": "c0342038-7049-49d9-8b08-460c93a8df10"
      },
      "source": [
        "missing_values = df.isnull().sum()\n",
        "display(missing_values)"
      ],
      "execution_count": 34,
      "outputs": [
        {
          "output_type": "display_data",
          "data": {
            "text/plain": [
              "Userkey                 0\n",
              "UserBrand               0\n",
              "SignUpDateTime          0\n",
              "SignUpChannel           0\n",
              "Unnamed: 4         121547\n",
              "SignUpDate              0\n",
              "SignUpTime              0\n",
              "SignUpYear              0\n",
              "SignUpMonth             0\n",
              "SignUpDayOfWeek         0\n",
              "SignUpHour              0\n",
              "dtype: int64"
            ],
            "text/html": [
              "<div>\n",
              "<style scoped>\n",
              "    .dataframe tbody tr th:only-of-type {\n",
              "        vertical-align: middle;\n",
              "    }\n",
              "\n",
              "    .dataframe tbody tr th {\n",
              "        vertical-align: top;\n",
              "    }\n",
              "\n",
              "    .dataframe thead th {\n",
              "        text-align: right;\n",
              "    }\n",
              "</style>\n",
              "<table border=\"1\" class=\"dataframe\">\n",
              "  <thead>\n",
              "    <tr style=\"text-align: right;\">\n",
              "      <th></th>\n",
              "      <th>0</th>\n",
              "    </tr>\n",
              "  </thead>\n",
              "  <tbody>\n",
              "    <tr>\n",
              "      <th>Userkey</th>\n",
              "      <td>0</td>\n",
              "    </tr>\n",
              "    <tr>\n",
              "      <th>UserBrand</th>\n",
              "      <td>0</td>\n",
              "    </tr>\n",
              "    <tr>\n",
              "      <th>SignUpDateTime</th>\n",
              "      <td>0</td>\n",
              "    </tr>\n",
              "    <tr>\n",
              "      <th>SignUpChannel</th>\n",
              "      <td>0</td>\n",
              "    </tr>\n",
              "    <tr>\n",
              "      <th>Unnamed: 4</th>\n",
              "      <td>121547</td>\n",
              "    </tr>\n",
              "    <tr>\n",
              "      <th>SignUpDate</th>\n",
              "      <td>0</td>\n",
              "    </tr>\n",
              "    <tr>\n",
              "      <th>SignUpTime</th>\n",
              "      <td>0</td>\n",
              "    </tr>\n",
              "    <tr>\n",
              "      <th>SignUpYear</th>\n",
              "      <td>0</td>\n",
              "    </tr>\n",
              "    <tr>\n",
              "      <th>SignUpMonth</th>\n",
              "      <td>0</td>\n",
              "    </tr>\n",
              "    <tr>\n",
              "      <th>SignUpDayOfWeek</th>\n",
              "      <td>0</td>\n",
              "    </tr>\n",
              "    <tr>\n",
              "      <th>SignUpHour</th>\n",
              "      <td>0</td>\n",
              "    </tr>\n",
              "  </tbody>\n",
              "</table>\n",
              "</div><br><label><b>dtype:</b> int64</label>"
            ]
          },
          "metadata": {}
        }
      ]
    },
    {
      "cell_type": "markdown",
      "metadata": {
        "id": "9be17a87"
      },
      "source": [
        "## Summary:\n",
        "\n",
        "### Data Analysis Key Findings\n",
        "\n",
        "* The `SignUpDate` column was successfully converted to datetime objects.\n",
        "* The majority of users are from 'BrightLight South Africa' (121369), compared to 'BrightLight Botswana' (178).\n",
        "* 'Acquisition Channel 3' is the dominant signup channel (117068 users), followed by 'Acquisition Channel 1' (4479 users).\n",
        "* New features (year, month, day of week, and hour) were successfully extracted from the `SignUpDate` and `SignUpTime` columns.\n",
        "* The 'Unnamed: 4' column contains a large number of missing values (121547).\n",
        "\n",
        "### Insights or Next Steps\n",
        "\n",
        "* Investigate the 'Unnamed: 4' column to understand its purpose and decide on a strategy for handling the missing values (e.g., dropping or imputing).\n",
        "* Further analyze user behavior based on the extracted date and time features, `UserBrand`, and `SignUpChannel` to identify potential trends or patterns in user acquisition and activity."
      ]
    },
    {
      "cell_type": "code",
      "source": [
        "#Analyze by years use a bar graph"
      ],
      "metadata": {
        "id": "PEcyKOPpMXpE"
      },
      "execution_count": 35,
      "outputs": []
    },
    {
      "cell_type": "code",
      "source": [
        "df['SignUpYear'].value_counts().plot(kind='bar')"
      ],
      "metadata": {
        "colab": {
          "base_uri": "https://localhost:8080/",
          "height": 488
        },
        "id": "nbFY7dtwMke6",
        "outputId": "943aa65c-4d2b-4003-a6bd-e6baec3236c9"
      },
      "execution_count": 36,
      "outputs": [
        {
          "output_type": "execute_result",
          "data": {
            "text/plain": [
              "<Axes: xlabel='SignUpYear'>"
            ]
          },
          "metadata": {},
          "execution_count": 36
        },
        {
          "output_type": "display_data",
          "data": {
            "text/plain": [
              "<Figure size 640x480 with 1 Axes>"
            ],
            "image/png": "[encoded data removed]"
          },
          "metadata": {}
        }
      ]
    },
    {
      "cell_type": "code",
      "source": [
        "#analyze by months of each year differently"
      ],
      "metadata": {
        "id": "xigYXhR9MiXE"
      },
      "execution_count": 37,
      "outputs": []
    },
    {
      "cell_type": "code",
      "source": [
        "df.groupby('SignUpYear')['SignUpMonth'].value_counts().unstack().plot(kind='bar')"
      ],
      "metadata": {
        "colab": {
          "base_uri": "https://localhost:8080/",
          "height": 488
        },
        "id": "sAxh-_pWM3Sr",
        "outputId": "30e05755-9db1-4228-d95b-3673ebfa62a1"
      },
      "execution_count": 38,
      "outputs": [
        {
          "output_type": "execute_result",
          "data": {
            "text/plain": [
              "<Axes: xlabel='SignUpYear'>"
            ]
          },
          "metadata": {},
          "execution_count": 38
        },
        {
          "output_type": "display_data",
          "data": {
            "text/plain": [
              "<Figure size 640x480 with 1 Axes>"
            ],
            "image/png": "[encoded data removed]"
          },
          "metadata": {}
        }
      ]
    },
    {
      "cell_type": "code",
      "source": [
        "# with a pie chart analyze by country"
      ],
      "metadata": {
        "id": "LUWaYRK8NH0R"
      },
      "execution_count": 39,
      "outputs": []
    },
    {
      "cell_type": "code",
      "source": [
        "df.UserBrand.value_counts().plot(kind='pie')"
      ],
      "metadata": {
        "colab": {
          "base_uri": "https://localhost:8080/",
          "height": 423
        },
        "id": "KkcnqSbmNRYh",
        "outputId": "0ba5d7f3-b688-4f17-e251-8e00c56937ef"
      },
      "execution_count": 41,
      "outputs": [
        {
          "output_type": "execute_result",
          "data": {
            "text/plain": [
              "<Axes: ylabel='count'>"
            ]
          },
          "metadata": {},
          "execution_count": 41
        },
        {
          "output_type": "display_data",
          "data": {
            "text/plain": [
              "<Figure size 640x480 with 1 Axes>"
            ],
            "image/png": "[encoded data removed]"
          },
          "metadata": {}
        }
      ]
    },
    {
      "cell_type": "markdown",
      "metadata": {
        "id": "038025a0"
      },
      "source": [
        "# Task\n",
        "Analyze the provided dataset to understand user distribution across signup channels and signup trends over time. Investigate and handle the 'Unnamed: 4' column. Summarize the findings."
      ]
    },
    {
      "cell_type": "markdown",
      "metadata": {
        "id": "31e596f0"
      },
      "source": [
        "## Visualize the distribution of users across `signupchannel` using a suitable chart.\n",
        "\n",
        "### Subtask:\n",
        "Create a chart (e.g., bar chart or pie chart) to visualize the distribution of users across different signup channels.\n"
      ]
    },
    {
      "cell_type": "markdown",
      "metadata": {
        "id": "fcb8d60d"
      },
      "source": [
        "**Reasoning**:\n",
        "Create a bar plot to visualize the distribution of users across different signup channels, adding a title and axis labels for clarity.\n",
        "\n"
      ]
    },
    {
      "cell_type": "code",
      "metadata": {
        "colab": {
          "base_uri": "https://localhost:8080/",
          "height": 608
        },
        "id": "6251d88d",
        "outputId": "df1b1c05-d978-40a0-ffa5-eb550391dae8"
      },
      "source": [
        "signup_channel_distribution.plot(kind='bar')\n",
        "plt.title(\"Distribution of Users Across SignUp Channels\")\n",
        "plt.xlabel(\"SignUp Channel\")\n",
        "plt.ylabel(\"Number of Users\")\n",
        "plt.show()"
      ],
      "execution_count": 42,
      "outputs": [
        {
          "output_type": "display_data",
          "data": {
            "text/plain": [
              "<Figure size 640x480 with 1 Axes>"
            ],
            "image/png": "[encoded data removed]"
          },
          "metadata": {}
        }
      ]
    },
    {
      "cell_type": "markdown",
      "metadata": {
        "id": "0bb8274a"
      },
      "source": [
        "## Analyze signup trends over time by visualizing user signups based on year, month, and day of the week.\n",
        "\n",
        "### Subtask:\n",
        "Analyze signup trends over time by visualizing user signups based on year, month, and day of the week.\n"
      ]
    },
    {
      "cell_type": "markdown",
      "metadata": {
        "id": "32443802"
      },
      "source": [
        "**Reasoning**:\n",
        "Create a bar plot showing the count of signups per month, grouped by year, and a bar plot showing the count of signups per day of the week, with appropriate titles and labels.\n",
        "\n"
      ]
    },
    {
      "cell_type": "code",
      "metadata": {
        "colab": {
          "base_uri": "https://localhost:8080/",
          "height": 1000
        },
        "id": "d84f0e1b",
        "outputId": "9d661da2-7d9a-414c-9744-02574edf7ac7"
      },
      "source": [
        "df.groupby('SignUpYear')['SignUpMonth'].value_counts().unstack().plot(kind='bar', figsize=(10, 6))\n",
        "plt.title(\"Monthly Signup Trends by Year\")\n",
        "plt.xlabel(\"Year\")\n",
        "plt.ylabel(\"Number of Signups\")\n",
        "plt.xticks(rotation=0)\n",
        "plt.legend(title=\"Month\", bbox_to_anchor=(1.05, 1), loc='upper left')\n",
        "plt.tight_layout()\n",
        "plt.show()\n",
        "\n",
        "df['SignUpDayOfWeek'].value_counts().sort_index().plot(kind='bar', figsize=(8, 5))\n",
        "plt.title(\"Signup Trends by Day of the Week\")\n",
        "plt.xlabel(\"Day of the Week (0=Monday, 6=Sunday)\")\n",
        "plt.ylabel(\"Number of Signups\")\n",
        "plt.xticks(rotation=0)\n",
        "plt.tight_layout()\n",
        "plt.show()"
      ],
      "execution_count": 43,
      "outputs": [
        {
          "output_type": "display_data",
          "data": {
            "text/plain": [
              "<Figure size 1000x600 with 1 Axes>"
            ],
            "image/png": "[encoded data removed]"
          },
          "metadata": {}
        },
        {
          "output_type": "display_data",
          "data": {
            "text/plain": [
              "<Figure size 800x500 with 1 Axes>"
            ],
            "image/png": "[encoded data removed]"
          },
          "metadata": {}
        }
      ]
    },
    {
      "cell_type": "markdown",
      "metadata": {
        "id": "a96df3dd"
      },
      "source": [
        "## Investigate the 'unnamed: 4' column by examining its data type and unique values (if any).\n",
        "\n",
        "### Subtask:\n",
        "Investigate the 'unnamed: 4' column by examining its data type and unique values (if any).\n"
      ]
    },
    {
      "cell_type": "markdown",
      "metadata": {
        "id": "2d618585"
      },
      "source": [
        "**Reasoning**:\n",
        "Print the data type and number of unique values of the 'Unnamed: 4' column, and if the number of unique values is small, print the unique values.\n",
        "\n"
      ]
    },
    {
      "cell_type": "code",
      "metadata": {
        "colab": {
          "base_uri": "https://localhost:8080/"
        },
        "id": "edc63c03",
        "outputId": "1d8f67c1-9e2f-4bc6-ca89-599cf9ac1602"
      },
      "source": [
        "print(\"Data type of 'Unnamed: 4' column:\", df['Unnamed: 4'].dtype)\n",
        "unique_unnamed_4 = df['Unnamed: 4'].nunique()\n",
        "print(\"Number of unique values in 'Unnamed: 4' column:\", unique_unnamed_4)\n",
        "if unique_unnamed_4 < 20:\n",
        "    print(\"Unique values in 'Unnamed: 4' column:\", df['Unnamed: 4'].unique())"
      ],
      "execution_count": 44,
      "outputs": [
        {
          "output_type": "stream",
          "name": "stdout",
          "text": [
            "Data type of 'Unnamed: 4' column: float64\n",
            "Number of unique values in 'Unnamed: 4' column: 0\n",
            "Unique values in 'Unnamed: 4' column: [nan]\n"
          ]
        }
      ]
    },
    {
      "cell_type": "markdown",
      "metadata": {
        "id": "abe926ce"
      },
      "source": [
        "## Decide on a strategy for handling the 'unnamed: 4' column (e.g., drop it if it contains only missing values).\n",
        "\n",
        "### Subtask:\n",
        "Decide on a strategy for handling the 'unnamed: 4' column (e.g., drop it if it contains only missing values).\n"
      ]
    },
    {
      "cell_type": "markdown",
      "metadata": {
        "id": "2ff23cda"
      },
      "source": [
        "**Reasoning**:\n",
        "Based on the previous finding that the 'Unnamed: 4' column contains only missing values, drop this column from the DataFrame `df` and then display the info to confirm.\n",
        "\n"
      ]
    },
    {
      "cell_type": "code",
      "metadata": {
        "colab": {
          "base_uri": "https://localhost:8080/",
          "height": 329
        },
        "id": "6c87cd84",
        "outputId": "90b11696-649f-4b06-9619-32ac5fc39399"
      },
      "source": [
        "df = df.drop('Unnamed: 4', axis=1)\n",
        "display(df.info())"
      ],
      "execution_count": 45,
      "outputs": [
        {
          "output_type": "stream",
          "name": "stdout",
          "text": [
            "<class 'pandas.core.frame.DataFrame'>\n",
            "RangeIndex: 121547 entries, 0 to 121546\n",
            "Data columns (total 10 columns):\n",
            " #   Column           Non-Null Count   Dtype         \n",
            "---  ------           --------------   -----         \n",
            " 0   Userkey          121547 non-null  int64         \n",
            " 1   UserBrand        121547 non-null  object        \n",
            " 2   SignUpDateTime   121547 non-null  object        \n",
            " 3   SignUpChannel    121547 non-null  object        \n",
            " 4   SignUpDate       121547 non-null  datetime64[ns]\n",
            " 5   SignUpTime       121547 non-null  object        \n",
            " 6   SignUpYear       121547 non-null  int32         \n",
            " 7   SignUpMonth      121547 non-null  int32         \n",
            " 8   SignUpDayOfWeek  121547 non-null  int32         \n",
            " 9   SignUpHour       121547 non-null  int32         \n",
            "dtypes: datetime64[ns](1), int32(4), int64(1), object(4)\n",
            "memory usage: 7.4+ MB\n"
          ]
        },
        {
          "output_type": "display_data",
          "data": {
            "text/plain": [
              "None"
            ]
          },
          "metadata": {}
        }
      ]
    },
    {
      "cell_type": "markdown",
      "metadata": {
        "id": "86df6279"
      },
      "source": [
        "## Summary:\n",
        "\n",
        "### Data Analysis Key Findings\n",
        "\n",
        "*   The distribution of users across signup channels was visualized using a bar chart, showing the number of users for each channel.\n",
        "*   Signup trends over time were analyzed by visualizing user signups based on year, month, and day of the week. The analysis showed monthly signup trends by year and the distribution of signups across the days of the week.\n",
        "*   The 'Unnamed: 4' column was found to have a `float64` data type and contained zero unique non-null values, consisting entirely of `NaN` (Not a Number) values.\n",
        "*   The 'Unnamed: 4' column was subsequently dropped from the DataFrame as it contained no meaningful data. The DataFrame was updated to contain 10 columns after the removal.\n",
        "\n",
        "### Insights or Next Steps\n",
        "\n",
        "*   Further analysis could focus on identifying which signup channels are most effective in terms of user retention or engagement.\n",
        "*   Investigate potential reasons for the observed monthly and daily signup trends to optimize marketing or outreach efforts.\n"
      ]
    },
    {
      "cell_type": "code",
      "source": [
        "#analyze by days of the week and by years and by regions using time graphs"
      ],
      "metadata": {
        "id": "hFuVOZ8FOpq5"
      },
      "execution_count": 46,
      "outputs": []
    },
    {
      "cell_type": "code",
      "source": [
        "# Visualize signup trends over time by year\n",
        "df['SignUpYear'].value_counts().sort_index().plot(kind='bar', figsize=(8, 5))\n",
        "plt.title(\"Signup Trends by Year\")\n",
        "plt.xlabel(\"Year\")\n",
        "plt.ylabel(\"Number of Signups\")\n",
        "plt.xticks(rotation=0)\n",
        "plt.tight_layout()\n",
        "plt.show()\n",
        "\n",
        "# Visualize signup trends over time by month\n",
        "df['SignUpMonth'].value_counts().sort_index().plot(kind='bar', figsize=(8, 5))\n",
        "plt.title(\"Signup Trends by Month\")\n",
        "plt.xlabel(\"Month\")\n",
        "plt.ylabel(\"Number of Signups\")\n",
        "plt.xticks(rotation=0)\n",
        "plt.tight_layout()\n",
        "plt.show()\n",
        "\n",
        "# Visualize signup trends over time by day of the week\n",
        "df['SignUpDayOfWeek'].value_counts().sort_index().plot(kind='bar', figsize=(8, 5))\n",
        "plt.title(\"Signup Trends by Day of the Week\")\n",
        "plt.xlabel(\"Day of the Week (0=Monday, 6=Sunday)\")\n",
        "plt.ylabel(\"Number of Signups\")\n",
        "plt.xticks(rotation=0)\n",
        "plt.tight_layout()\n",
        "plt.show()\n",
        "\n",
        "# Visualize signup distribution by UserBrand\n",
        "df['UserBrand'].value_counts().plot(kind='bar', figsize=(8, 5))\n",
        "plt.title(\"Signup Distribution by User Brand\")\n",
        "plt.xlabel(\"User Brand\")\n",
        "plt.ylabel(\"Number of Signups\")\n",
        "plt.xticks(rotation=0)\n",
        "plt.tight_layout()\n",
        "plt.show()"
      ],
      "metadata": {
        "colab": {
          "base_uri": "https://localhost:8080/",
          "height": 1000
        },
        "id": "NIx6poNIPHCB",
        "outputId": "b66be1a6-5ea2-40b7-9108-659f7e1bd3f8"
      },
      "execution_count": 49,
      "outputs": [
        {
          "output_type": "display_data",
          "data": {
            "text/plain": [
              "<Figure size 800x500 with 1 Axes>"
            ],
            "image/png": "[encoded data removed]"
          },
          "metadata": {}
        },
        {
          "output_type": "display_data",
          "data": {
            "text/plain": [
              "<Figure size 800x500 with 1 Axes>"
            ],
            "image/png": "[encoded data removed]"
          },
          "metadata": {}
        },
        {
          "output_type": "display_data",
          "data": {
            "text/plain": [
              "<Figure size 800x500 with 1 Axes>"
            ],
            "image/png": "[encoded data removed]"
          },
          "metadata": {}
        },
        {
          "output_type": "display_data",
          "data": {
            "text/plain": [
              "<Figure size 800x500 with 1 Axes>"
            ],
            "image/png": "[encoded data removed]"
          },
          "metadata": {}
        }
      ]
    },
    {
      "cell_type": "markdown",
      "metadata": {
        "id": "a903701d"
      },
      "source": [
        "## Visualize the distribution of users across `signupchannel` using a suitable chart.\n",
        "\n",
        "### Subtask:\n",
        "Create a chart (e.g., bar chart or pie chart) to visualize the distribution of users across different signup channels."
      ]
    },
    {
      "cell_type": "markdown",
      "metadata": {
        "id": "925eb240"
      },
      "source": [
        "**Reasoning**:\n",
        "Create a bar plot to visualize the distribution of users across different signup channels, adding a title and axis labels for clarity."
      ]
    },
    {
      "cell_type": "code",
      "metadata": {
        "colab": {
          "base_uri": "https://localhost:8080/",
          "height": 608
        },
        "id": "3aa2aa26",
        "outputId": "52f3c728-c6cd-4c4c-cdc0-4a724a8b5821"
      },
      "source": [
        "signup_channel_distribution.plot(kind='bar')\n",
        "plt.title(\"Distribution of Users Across SignUp Channels\")\n",
        "plt.xlabel(\"SignUp Channel\")\n",
        "plt.ylabel(\"Number of Users\")\n",
        "plt.show()"
      ],
      "execution_count": 50,
      "outputs": [
        {
          "output_type": "display_data",
          "data": {
            "text/plain": [
              "<Figure size 640x480 with 1 Axes>"
            ],
            "image/png": "[encoded data removed]"
          },
          "metadata": {}
        }
      ]
    },
    {
      "cell_type": "markdown",
      "metadata": {
        "id": "d16d2603"
      },
      "source": [
        "## Investigate the 'unnamed: 4' column by examining its data type and unique values (if any).\n",
        "\n",
        "### Subtask:\n",
        "Investigate the 'unnamed: 4' column by examining its data type and unique values (if any)."
      ]
    },
    {
      "cell_type": "markdown",
      "metadata": {
        "id": "008d5c01"
      },
      "source": [
        "**Reasoning**:\n",
        "Print the data type and number of unique values of the 'Unnamed: 4' column, and if the number of unique values is small, print the unique values."
      ]
    },
    {
      "cell_type": "markdown",
      "metadata": {
        "id": "3e606e28"
      },
      "source": [
        "## Summary:\n",
        "\n",
        "### Data Analysis Key Findings\n",
        "\n",
        "* The `SignUpDate` column was successfully converted to datetime objects.\n",
        "* The majority of users are from 'BrightLight South Africa' (121369), compared to 'BrightLight Botswana' (178).\n",
        "* 'Acquisition Channel 3' is the dominant signup channel (117068 users), followed by 'Acquisition Channel 1' (4479 users).\n",
        "* New features (year, month, day of week, and hour) were successfully extracted from the `SignUpDate` and `SignUpTime` columns.\n",
        "* The distribution of users across signup channels was visualized using a bar chart, showing the number of users for each channel.\n",
        "* Signup trends over time were analyzed by visualizing user signups based on year, month, and day of the week. The analysis showed monthly signup trends by year and the distribution of signups across the days of the week.\n",
        "* The 'Unnamed: 4' column was found to have a `float64` data type and contained zero unique non-null values, consisting entirely of `NaN` (Not a Number) values.\n",
        "* The 'Unnamed: 4' column was subsequently dropped from the DataFrame as it contained no meaningful data. The DataFrame was updated to contain 10 columns after the removal.\n",
        "\n",
        "### Insights or Next Steps\n",
        "\n",
        "* Further analysis could focus on identifying which signup channels are most effective in terms of user retention or engagement.\n",
        "* Investigate potential reasons for the observed monthly and daily signup trends to optimize marketing or outreach efforts.\n",
        "* Explore the relationship between `UserBrand`, `SignUpChannel`, and signup trends over time."
      ]
    }
  ]
}